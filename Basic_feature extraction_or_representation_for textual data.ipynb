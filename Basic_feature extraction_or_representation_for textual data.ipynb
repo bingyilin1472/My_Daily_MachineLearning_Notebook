{
 "cells": [
  {
   "cell_type": "code",
   "execution_count": 15,
   "outputs": [],
   "source": [
    "import pandas as pd\n",
    "import nltk"
   ],
   "metadata": {
    "collapsed": false,
    "pycharm": {
     "name": "#%%\n"
    }
   }
  },
  {
   "cell_type": "markdown",
   "source": [
    "### Punkt sentence tokenizer\n",
    "- 採用Punkt斷詞模型(可以有比較好的斷詞效果，相較string的splitting方法)"
   ],
   "metadata": {
    "collapsed": false,
    "pycharm": {
     "name": "#%% md\n"
    }
   }
  },
  {
   "cell_type": "code",
   "execution_count": 1,
   "outputs": [
    {
     "ename": "NameError",
     "evalue": "name 'nltk' is not defined",
     "output_type": "error",
     "traceback": [
      "\u001B[1;31m---------------------------------------------------------------------------\u001B[0m",
      "\u001B[1;31mNameError\u001B[0m                                 Traceback (most recent call last)",
      "\u001B[1;32m<ipython-input-1-802ea2424914>\u001B[0m in \u001B[0;36m<module>\u001B[1;34m\u001B[0m\n\u001B[1;32m----> 1\u001B[1;33m \u001B[0mnltk\u001B[0m\u001B[1;33m.\u001B[0m\u001B[0mdownload\u001B[0m\u001B[1;33m(\u001B[0m\u001B[1;34m'punkt'\u001B[0m\u001B[1;33m)\u001B[0m\u001B[1;33m\u001B[0m\u001B[1;33m\u001B[0m\u001B[0m\n\u001B[0m\u001B[0;32m      2\u001B[0m \u001B[1;33m\u001B[0m\u001B[0m\n",
      "\u001B[1;31mNameError\u001B[0m: name 'nltk' is not defined"
     ]
    }
   ],
   "source": [
    "nltk.download('punkt')"
   ],
   "metadata": {
    "collapsed": false,
    "pycharm": {
     "name": "#%%\n"
    }
   }
  },
  {
   "cell_type": "markdown",
   "metadata": {
    "collapsed": true,
    "pycharm": {
     "name": "#%% md\n"
    }
   },
   "source": [
    "## One-hot encoding\n",
    "- It is also called as Dummy Variable虛擬變數。\n",
    "- 常用來轉換Categorical data or Textual data into numeric data\n",
    "- 優點自然是拓展features數量，增加特徵數量就可以多一個預測的依據\n",
    "- 轉化過的特徵為各自獨立、分開，這未必是優點，因為會導致之間的interactions無法被抓取\n",
    "- 各自獨立，有利於feature selection並且找出對於target最有影響力的關鍵特徵<br>\n",
    "這特色很適合配合regression analysis回歸分析使用"
   ]
  },
  {
   "cell_type": "markdown",
   "source": [
    "## One-hot encoding表達textual data的weaknesses\n",
    "- 若article/paragraph/article為一個category那會完全無相似性可以比較\n",
    "- 若用one-hot encoding針對word是否(True/False)來比對則writers之間比較上又沒差異(under-fitting)\n",
    "- word-count相對來說比較有差異性\n",
    "\n",
    "## Representation of Word count\n",
    "- 但它問題跟dummy variable差不多，雖然他抽象層級上比one-hot encoding來得好，但是會有curse dimensionality\n",
    "- 另一個問題是，sparse matrix，很多0，這會造成training上的難題"
   ],
   "metadata": {
    "collapsed": false,
    "pycharm": {
     "name": "#%% md\n"
    }
   }
  },
  {
   "cell_type": "code",
   "execution_count": 12,
   "outputs": [],
   "source": [
    "russian_tweets_df = pd.read_csv(\"russian_tweets.csv\")\n",
    "ted_df = pd.read_csv(\"ted.csv\")"
   ],
   "metadata": {
    "collapsed": false,
    "pycharm": {
     "name": "#%%\n"
    }
   }
  },
  {
   "cell_type": "code",
   "execution_count": 9,
   "outputs": [
    {
     "data": {
      "text/plain": "   Unnamed: 0                                            content\n0      127447  LIVE STREAM VIDEO=> Donald Trump Rallies in Co...\n1      123642  Muslim Attacks NYPD Cops with Meat Cleaver. Me...\n2      226970  .@vfpatlas well that's a swella word there (di...\n3      138339  RT wehking_pamela: Bobby_Axelrod2k MMFlint don...\n4      161610  Жители обстреливаемых районов Донецка проводят...",
      "text/html": "<div>\n<style scoped>\n    .dataframe tbody tr th:only-of-type {\n        vertical-align: middle;\n    }\n\n    .dataframe tbody tr th {\n        vertical-align: top;\n    }\n\n    .dataframe thead th {\n        text-align: right;\n    }\n</style>\n<table border=\"1\" class=\"dataframe\">\n  <thead>\n    <tr style=\"text-align: right;\">\n      <th></th>\n      <th>Unnamed: 0</th>\n      <th>content</th>\n    </tr>\n  </thead>\n  <tbody>\n    <tr>\n      <th>0</th>\n      <td>127447</td>\n      <td>LIVE STREAM VIDEO=&gt; Donald Trump Rallies in Co...</td>\n    </tr>\n    <tr>\n      <th>1</th>\n      <td>123642</td>\n      <td>Muslim Attacks NYPD Cops with Meat Cleaver. Me...</td>\n    </tr>\n    <tr>\n      <th>2</th>\n      <td>226970</td>\n      <td>.@vfpatlas well that's a swella word there (di...</td>\n    </tr>\n    <tr>\n      <th>3</th>\n      <td>138339</td>\n      <td>RT wehking_pamela: Bobby_Axelrod2k MMFlint don...</td>\n    </tr>\n    <tr>\n      <th>4</th>\n      <td>161610</td>\n      <td>Жители обстреливаемых районов Донецка проводят...</td>\n    </tr>\n  </tbody>\n</table>\n</div>"
     },
     "execution_count": 9,
     "metadata": {},
     "output_type": "execute_result"
    }
   ],
   "source": [
    "russian_tweets_df.head()"
   ],
   "metadata": {
    "collapsed": false,
    "pycharm": {
     "name": "#%%\n"
    }
   }
  },
  {
   "cell_type": "code",
   "execution_count": 13,
   "outputs": [
    {
     "data": {
      "text/plain": "                                          transcript  \\\n0  We're going to talk — my — a new lecture, just...   \n1  This is a representation of your brain, and yo...   \n2  It's a great honor today to share with you The...   \n3  My passions are music, technology and making t...   \n4  It used to be that if you wanted to get a comp...   \n\n                                                 url  \n0  https://www.ted.com/talks/al_seckel_says_our_b...  \n1  https://www.ted.com/talks/aaron_o_connell_maki...  \n2  https://www.ted.com/talks/carter_emmart_demos_...  \n3  https://www.ted.com/talks/jared_ficklin_new_wa...  \n4  https://www.ted.com/talks/jeremy_howard_the_wo...  ",
      "text/html": "<div>\n<style scoped>\n    .dataframe tbody tr th:only-of-type {\n        vertical-align: middle;\n    }\n\n    .dataframe tbody tr th {\n        vertical-align: top;\n    }\n\n    .dataframe thead th {\n        text-align: right;\n    }\n</style>\n<table border=\"1\" class=\"dataframe\">\n  <thead>\n    <tr style=\"text-align: right;\">\n      <th></th>\n      <th>transcript</th>\n      <th>url</th>\n    </tr>\n  </thead>\n  <tbody>\n    <tr>\n      <th>0</th>\n      <td>We're going to talk — my — a new lecture, just...</td>\n      <td>https://www.ted.com/talks/al_seckel_says_our_b...</td>\n    </tr>\n    <tr>\n      <th>1</th>\n      <td>This is a representation of your brain, and yo...</td>\n      <td>https://www.ted.com/talks/aaron_o_connell_maki...</td>\n    </tr>\n    <tr>\n      <th>2</th>\n      <td>It's a great honor today to share with you The...</td>\n      <td>https://www.ted.com/talks/carter_emmart_demos_...</td>\n    </tr>\n    <tr>\n      <th>3</th>\n      <td>My passions are music, technology and making t...</td>\n      <td>https://www.ted.com/talks/jared_ficklin_new_wa...</td>\n    </tr>\n    <tr>\n      <th>4</th>\n      <td>It used to be that if you wanted to get a comp...</td>\n      <td>https://www.ted.com/talks/jeremy_howard_the_wo...</td>\n    </tr>\n  </tbody>\n</table>\n</div>"
     },
     "execution_count": 13,
     "metadata": {},
     "output_type": "execute_result"
    }
   ],
   "source": [
    "ted_df.head()"
   ],
   "metadata": {
    "collapsed": false,
    "pycharm": {
     "name": "#%%\n"
    }
   }
  },
  {
   "cell_type": "markdown",
   "source": [
    "### pandas df的apply method\n",
    "apply是在做transformation用，他可以帶入某func給該欄位做轉換\n",
    "- 這邊計算the number of characters of content\n",
    "- 其實# of char也是一種textual data轉numeric的representation<br>\n",
    "(There are a bit meaningful insights in the lengths of contents)\n",
    "- 不過其實char count單位比較小，可能產生的意義會比較少，但是還是可以作為一些sentiment analysis的參考，譬如文長、文短也有許多文外的意思存在"
   ],
   "metadata": {
    "collapsed": false,
    "pycharm": {
     "name": "#%% md\n"
    }
   }
  },
  {
   "cell_type": "markdown",
   "source": [
    "### pandas df的column的mean() method\n",
    "這個比較是在整體的中間值center，可作為一個衡量標準，This concept is based on statistics"
   ],
   "metadata": {
    "collapsed": false,
    "pycharm": {
     "name": "#%% md\n"
    }
   }
  },
  {
   "cell_type": "code",
   "execution_count": 10,
   "outputs": [
    {
     "data": {
      "text/plain": "   Unnamed: 0                                            content  char_count\n0      127447  LIVE STREAM VIDEO=> Donald Trump Rallies in Co...         130\n1      123642  Muslim Attacks NYPD Cops with Meat Cleaver. Me...         138\n2      226970  .@vfpatlas well that's a swella word there (di...          65\n3      138339  RT wehking_pamela: Bobby_Axelrod2k MMFlint don...         139\n4      161610  Жители обстреливаемых районов Донецка проводят...         131",
      "text/html": "<div>\n<style scoped>\n    .dataframe tbody tr th:only-of-type {\n        vertical-align: middle;\n    }\n\n    .dataframe tbody tr th {\n        vertical-align: top;\n    }\n\n    .dataframe thead th {\n        text-align: right;\n    }\n</style>\n<table border=\"1\" class=\"dataframe\">\n  <thead>\n    <tr style=\"text-align: right;\">\n      <th></th>\n      <th>Unnamed: 0</th>\n      <th>content</th>\n      <th>char_count</th>\n    </tr>\n  </thead>\n  <tbody>\n    <tr>\n      <th>0</th>\n      <td>127447</td>\n      <td>LIVE STREAM VIDEO=&gt; Donald Trump Rallies in Co...</td>\n      <td>130</td>\n    </tr>\n    <tr>\n      <th>1</th>\n      <td>123642</td>\n      <td>Muslim Attacks NYPD Cops with Meat Cleaver. Me...</td>\n      <td>138</td>\n    </tr>\n    <tr>\n      <th>2</th>\n      <td>226970</td>\n      <td>.@vfpatlas well that's a swella word there (di...</td>\n      <td>65</td>\n    </tr>\n    <tr>\n      <th>3</th>\n      <td>138339</td>\n      <td>RT wehking_pamela: Bobby_Axelrod2k MMFlint don...</td>\n      <td>139</td>\n    </tr>\n    <tr>\n      <th>4</th>\n      <td>161610</td>\n      <td>Жители обстреливаемых районов Донецка проводят...</td>\n      <td>131</td>\n    </tr>\n  </tbody>\n</table>\n</div>"
     },
     "execution_count": 10,
     "metadata": {},
     "output_type": "execute_result"
    }
   ],
   "source": [
    "russian_tweets_df['char_count'] = russian_tweets_df['content'].apply(len)\n",
    "russian_tweets_df.head()"
   ],
   "metadata": {
    "collapsed": false,
    "pycharm": {
     "name": "#%%\n"
    }
   }
  },
  {
   "cell_type": "code",
   "execution_count": 11,
   "outputs": [
    {
     "data": {
      "text/plain": "103.462"
     },
     "execution_count": 11,
     "metadata": {},
     "output_type": "execute_result"
    }
   ],
   "source": [
    "russian_tweets_content_mean = russian_tweets_df['char_count'].mean()\n",
    "russian_tweets_content_mean"
   ],
   "metadata": {
    "collapsed": false,
    "pycharm": {
     "name": "#%%\n"
    }
   }
  },
  {
   "cell_type": "markdown",
   "source": [
    "## Tokenization斷詞\n",
    "這邊不採用splitting的方式來進行斷詞，因為他的斷詞rules過於簡單，單純以space char來進行，自然會有許多切不開的情況發生\n",
    "<br>(splitting方式就是寫token_func配合apply，逐筆去處理)\n",
    "- Tokenization is to break and split text into smaller chunk\n",
    "- 採用nltk的word_tokenize，之前有聽過nltk並非industrial level的tool，因此量大的時候就得斟酌使用<br>\n",
    "(其實nltk跑得挺慢的...)"
   ],
   "metadata": {
    "collapsed": false,
    "pycharm": {
     "name": "#%% md\n"
    }
   }
  },
  {
   "cell_type": "code",
   "execution_count": 20,
   "outputs": [],
   "source": [
    "def tokenization(content_str):\n",
    "    token_list = nltk.word_tokenize(content_str)\n",
    "    return token_list\n",
    "def token_count(word_list):\n",
    "    return len(word_list)"
   ],
   "metadata": {
    "collapsed": false,
    "pycharm": {
     "name": "#%%\n"
    }
   }
  },
  {
   "cell_type": "code",
   "execution_count": 22,
   "outputs": [
    {
     "data": {
      "text/plain": "                                          transcript  \\\n0  We're going to talk — my — a new lecture, just...   \n1  This is a representation of your brain, and yo...   \n2  It's a great honor today to share with you The...   \n3  My passions are music, technology and making t...   \n4  It used to be that if you wanted to get a comp...   \n\n                                                 url  \\\n0  https://www.ted.com/talks/al_seckel_says_our_b...   \n1  https://www.ted.com/talks/aaron_o_connell_maki...   \n2  https://www.ted.com/talks/carter_emmart_demos_...   \n3  https://www.ted.com/talks/jared_ficklin_new_wa...   \n4  https://www.ted.com/talks/jeremy_howard_the_wo...   \n\n                                          word_count  \\\n0  [We, 're, going, to, talk, —, my, —, a, new, l...   \n1  [This, is, a, representation, of, your, brain,...   \n2  [It, 's, a, great, honor, today, to, share, wi...   \n3  [My, passions, are, music, ,, technology, and,...   \n4  [It, used, to, be, that, if, you, wanted, to, ...   \n\n                                         sent_tokens  token_count  \n0  [We, 're, going, to, talk, —, my, —, a, new, l...         2003  \n1  [This, is, a, representation, of, your, brain,...         1595  \n2  [It, 's, a, great, honor, today, to, share, wi...         1001  \n3  [My, passions, are, music, ,, technology, and,...         1826  \n4  [It, used, to, be, that, if, you, wanted, to, ...         3974  ",
      "text/html": "<div>\n<style scoped>\n    .dataframe tbody tr th:only-of-type {\n        vertical-align: middle;\n    }\n\n    .dataframe tbody tr th {\n        vertical-align: top;\n    }\n\n    .dataframe thead th {\n        text-align: right;\n    }\n</style>\n<table border=\"1\" class=\"dataframe\">\n  <thead>\n    <tr style=\"text-align: right;\">\n      <th></th>\n      <th>transcript</th>\n      <th>url</th>\n      <th>word_count</th>\n      <th>sent_tokens</th>\n      <th>token_count</th>\n    </tr>\n  </thead>\n  <tbody>\n    <tr>\n      <th>0</th>\n      <td>We're going to talk — my — a new lecture, just...</td>\n      <td>https://www.ted.com/talks/al_seckel_says_our_b...</td>\n      <td>[We, 're, going, to, talk, —, my, —, a, new, l...</td>\n      <td>[We, 're, going, to, talk, —, my, —, a, new, l...</td>\n      <td>2003</td>\n    </tr>\n    <tr>\n      <th>1</th>\n      <td>This is a representation of your brain, and yo...</td>\n      <td>https://www.ted.com/talks/aaron_o_connell_maki...</td>\n      <td>[This, is, a, representation, of, your, brain,...</td>\n      <td>[This, is, a, representation, of, your, brain,...</td>\n      <td>1595</td>\n    </tr>\n    <tr>\n      <th>2</th>\n      <td>It's a great honor today to share with you The...</td>\n      <td>https://www.ted.com/talks/carter_emmart_demos_...</td>\n      <td>[It, 's, a, great, honor, today, to, share, wi...</td>\n      <td>[It, 's, a, great, honor, today, to, share, wi...</td>\n      <td>1001</td>\n    </tr>\n    <tr>\n      <th>3</th>\n      <td>My passions are music, technology and making t...</td>\n      <td>https://www.ted.com/talks/jared_ficklin_new_wa...</td>\n      <td>[My, passions, are, music, ,, technology, and,...</td>\n      <td>[My, passions, are, music, ,, technology, and,...</td>\n      <td>1826</td>\n    </tr>\n    <tr>\n      <th>4</th>\n      <td>It used to be that if you wanted to get a comp...</td>\n      <td>https://www.ted.com/talks/jeremy_howard_the_wo...</td>\n      <td>[It, used, to, be, that, if, you, wanted, to, ...</td>\n      <td>[It, used, to, be, that, if, you, wanted, to, ...</td>\n      <td>3974</td>\n    </tr>\n  </tbody>\n</table>\n</div>"
     },
     "execution_count": 22,
     "metadata": {},
     "output_type": "execute_result"
    }
   ],
   "source": [
    "ted_df['sent_tokens'] = ted_df['transcript'].apply(tokenization)\n",
    "ted_df['token_count'] = ted_df['sent_tokens'].apply(token_count)\n",
    "ted_df.head()"
   ],
   "metadata": {
    "collapsed": false,
    "pycharm": {
     "name": "#%%\n"
    }
   }
  },
  {
   "cell_type": "markdown",
   "source": [
    "### The mean of # of words\n",
    "- 我認為這比# of chars來說，more representative and less noises\n",
    "- There are less noises. 我認為單存字母的量構成的長度大小其實很多都是noise雜訊，那樣的representation並不具有representative代表性"
   ],
   "metadata": {
    "collapsed": false,
    "pycharm": {
     "name": "#%% md\n"
    }
   }
  },
  {
   "cell_type": "code",
   "execution_count": 24,
   "outputs": [
    {
     "data": {
      "text/plain": "2344.85"
     },
     "execution_count": 24,
     "metadata": {},
     "output_type": "execute_result"
    }
   ],
   "source": [
    "ted_df['token_count'].mean()"
   ],
   "metadata": {
    "collapsed": false,
    "pycharm": {
     "name": "#%%\n"
    }
   }
  },
  {
   "cell_type": "markdown",
   "source": [
    "### Hashtag detection by str startswith()\n",
    "- social network經常會有hashtag在初始位址，透過這個方法可以startswith()可以做偵測\n",
    "- 並以one-hot encoding方式來做分類，可以做為分析的一種依據與區隔<br>\n",
    "(可以配合stratification方式，依據hashtag種類座分層，將句子做分類後，做各自獨立的分析，可能會較具代表性)"
   ],
   "metadata": {
    "collapsed": false,
    "pycharm": {
     "name": "#%% md\n"
    }
   }
  },
  {
   "cell_type": "code",
   "execution_count": 69,
   "outputs": [],
   "source": [
    "def hash_tags(token_list):\n",
    "    if token_list[0].startswith('#'):\n",
    "        tag = '#'\n",
    "    else:\n",
    "        tag = 'normal sent'\n",
    "    return tag\n",
    "def word_split(sent):\n",
    "    # default 分隔為space char\n",
    "    words = sent.split()\n",
    "    return words"
   ],
   "metadata": {
    "collapsed": false,
    "pycharm": {
     "name": "#%%\n"
    }
   }
  },
  {
   "cell_type": "code",
   "execution_count": 70,
   "outputs": [
    {
     "data": {
      "text/plain": "   Unnamed: 0                                            content  \\\n0      127447  LIVE STREAM VIDEO=> Donald Trump Rallies in Co...   \n1      123642  Muslim Attacks NYPD Cops with Meat Cleaver. Me...   \n2      226970  .@vfpatlas well that's a swella word there (di...   \n3      138339  RT wehking_pamela: Bobby_Axelrod2k MMFlint don...   \n4      161610  Жители обстреливаемых районов Донецка проводят...   \n\n                                         sent_tokens          tag  \n0  [LIVE, STREAM, VIDEO=>, Donald, Trump, Rallies...  normal sent  \n1  [Muslim, Attacks, NYPD, Cops, with, Meat, Clea...  normal sent  \n2  [.@vfpatlas, well, that's, a, swella, word, th...  normal sent  \n3  [RT, wehking_pamela:, Bobby_Axelrod2k, MMFlint...  normal sent  \n4  [Жители, обстреливаемых, районов, Донецка, про...  normal sent  ",
      "text/html": "<div>\n<style scoped>\n    .dataframe tbody tr th:only-of-type {\n        vertical-align: middle;\n    }\n\n    .dataframe tbody tr th {\n        vertical-align: top;\n    }\n\n    .dataframe thead th {\n        text-align: right;\n    }\n</style>\n<table border=\"1\" class=\"dataframe\">\n  <thead>\n    <tr style=\"text-align: right;\">\n      <th></th>\n      <th>Unnamed: 0</th>\n      <th>content</th>\n      <th>sent_tokens</th>\n      <th>tag</th>\n    </tr>\n  </thead>\n  <tbody>\n    <tr>\n      <th>0</th>\n      <td>127447</td>\n      <td>LIVE STREAM VIDEO=&gt; Donald Trump Rallies in Co...</td>\n      <td>[LIVE, STREAM, VIDEO=&gt;, Donald, Trump, Rallies...</td>\n      <td>normal sent</td>\n    </tr>\n    <tr>\n      <th>1</th>\n      <td>123642</td>\n      <td>Muslim Attacks NYPD Cops with Meat Cleaver. Me...</td>\n      <td>[Muslim, Attacks, NYPD, Cops, with, Meat, Clea...</td>\n      <td>normal sent</td>\n    </tr>\n    <tr>\n      <th>2</th>\n      <td>226970</td>\n      <td>.@vfpatlas well that's a swella word there (di...</td>\n      <td>[.@vfpatlas, well, that's, a, swella, word, th...</td>\n      <td>normal sent</td>\n    </tr>\n    <tr>\n      <th>3</th>\n      <td>138339</td>\n      <td>RT wehking_pamela: Bobby_Axelrod2k MMFlint don...</td>\n      <td>[RT, wehking_pamela:, Bobby_Axelrod2k, MMFlint...</td>\n      <td>normal sent</td>\n    </tr>\n    <tr>\n      <th>4</th>\n      <td>161610</td>\n      <td>Жители обстреливаемых районов Донецка проводят...</td>\n      <td>[Жители, обстреливаемых, районов, Донецка, про...</td>\n      <td>normal sent</td>\n    </tr>\n  </tbody>\n</table>\n</div>"
     },
     "execution_count": 70,
     "metadata": {},
     "output_type": "execute_result"
    }
   ],
   "source": [
    "#因為沒有russian tokenization model因此採用splitting way\n",
    "russian_tweets_df['sent_tokens'] = russian_tweets_df['content'].apply(word_split)\n",
    "russian_tweets_df.head()"
   ],
   "metadata": {
    "collapsed": false,
    "pycharm": {
     "name": "#%%\n"
    }
   }
  },
  {
   "cell_type": "code",
   "execution_count": 71,
   "outputs": [
    {
     "data": {
      "text/plain": "   Unnamed: 0                                            content  \\\n0      127447  LIVE STREAM VIDEO=> Donald Trump Rallies in Co...   \n1      123642  Muslim Attacks NYPD Cops with Meat Cleaver. Me...   \n2      226970  .@vfpatlas well that's a swella word there (di...   \n3      138339  RT wehking_pamela: Bobby_Axelrod2k MMFlint don...   \n4      161610  Жители обстреливаемых районов Донецка проводят...   \n\n                                         sent_tokens          tag  \n0  [LIVE, STREAM, VIDEO=>, Donald, Trump, Rallies...  normal sent  \n1  [Muslim, Attacks, NYPD, Cops, with, Meat, Clea...  normal sent  \n2  [.@vfpatlas, well, that's, a, swella, word, th...  normal sent  \n3  [RT, wehking_pamela:, Bobby_Axelrod2k, MMFlint...  normal sent  \n4  [Жители, обстреливаемых, районов, Донецка, про...  normal sent  ",
      "text/html": "<div>\n<style scoped>\n    .dataframe tbody tr th:only-of-type {\n        vertical-align: middle;\n    }\n\n    .dataframe tbody tr th {\n        vertical-align: top;\n    }\n\n    .dataframe thead th {\n        text-align: right;\n    }\n</style>\n<table border=\"1\" class=\"dataframe\">\n  <thead>\n    <tr style=\"text-align: right;\">\n      <th></th>\n      <th>Unnamed: 0</th>\n      <th>content</th>\n      <th>sent_tokens</th>\n      <th>tag</th>\n    </tr>\n  </thead>\n  <tbody>\n    <tr>\n      <th>0</th>\n      <td>127447</td>\n      <td>LIVE STREAM VIDEO=&gt; Donald Trump Rallies in Co...</td>\n      <td>[LIVE, STREAM, VIDEO=&gt;, Donald, Trump, Rallies...</td>\n      <td>normal sent</td>\n    </tr>\n    <tr>\n      <th>1</th>\n      <td>123642</td>\n      <td>Muslim Attacks NYPD Cops with Meat Cleaver. Me...</td>\n      <td>[Muslim, Attacks, NYPD, Cops, with, Meat, Clea...</td>\n      <td>normal sent</td>\n    </tr>\n    <tr>\n      <th>2</th>\n      <td>226970</td>\n      <td>.@vfpatlas well that's a swella word there (di...</td>\n      <td>[.@vfpatlas, well, that's, a, swella, word, th...</td>\n      <td>normal sent</td>\n    </tr>\n    <tr>\n      <th>3</th>\n      <td>138339</td>\n      <td>RT wehking_pamela: Bobby_Axelrod2k MMFlint don...</td>\n      <td>[RT, wehking_pamela:, Bobby_Axelrod2k, MMFlint...</td>\n      <td>normal sent</td>\n    </tr>\n    <tr>\n      <th>4</th>\n      <td>161610</td>\n      <td>Жители обстреливаемых районов Донецка проводят...</td>\n      <td>[Жители, обстреливаемых, районов, Донецка, про...</td>\n      <td>normal sent</td>\n    </tr>\n  </tbody>\n</table>\n</div>"
     },
     "execution_count": 71,
     "metadata": {},
     "output_type": "execute_result"
    }
   ],
   "source": [
    "russian_tweets_df['tag'] = russian_tweets_df['sent_tokens'].apply(hash_tags)\n",
    "russian_tweets_df.head()"
   ],
   "metadata": {
    "collapsed": false,
    "pycharm": {
     "name": "#%%\n"
    }
   }
  },
  {
   "cell_type": "markdown",
   "source": [
    "### Getting dummy variables\n",
    "- Through pd.get_dummies method"
   ],
   "metadata": {
    "collapsed": false,
    "pycharm": {
     "name": "#%% md\n"
    }
   }
  },
  {
   "cell_type": "code",
   "execution_count": 72,
   "outputs": [
    {
     "data": {
      "text/plain": "     Unnamed: 0                                            content  \\\n0        127447  LIVE STREAM VIDEO=> Donald Trump Rallies in Co...   \n1        123642  Muslim Attacks NYPD Cops with Meat Cleaver. Me...   \n2        226970  .@vfpatlas well that's a swella word there (di...   \n3        138339  RT wehking_pamela: Bobby_Axelrod2k MMFlint don...   \n4        161610  Жители обстреливаемых районов Донецка проводят...   \n..          ...                                                ...   \n995       24329  How To Inspire People With Your Music! https:/...   \n996      315060                        ... https://t.co/AfWdTkKQlm   \n997      361901  Trevor Noah: Until we start treating racism li...   \n998      119948  SenSanders: RT SenJeffMerkley: We must act bol...   \n999      242678  Police: Man arrested for February shooting at ...   \n\n                                           sent_tokens  tag_#  tag_normal sent  \n0    [LIVE, STREAM, VIDEO=>, Donald, Trump, Rallies...      0                1  \n1    [Muslim, Attacks, NYPD, Cops, with, Meat, Clea...      0                1  \n2    [.@vfpatlas, well, that's, a, swella, word, th...      0                1  \n3    [RT, wehking_pamela:, Bobby_Axelrod2k, MMFlint...      0                1  \n4    [Жители, обстреливаемых, районов, Донецка, про...      0                1  \n..                                                 ...    ...              ...  \n995  [How, To, Inspire, People, With, Your, Music!,...      0                1  \n996                     [..., https://t.co/AfWdTkKQlm]      0                1  \n997  [Trevor, Noah:, Until, we, start, treating, ra...      0                1  \n998  [SenSanders:, RT, SenJeffMerkley:, We, must, a...      0                1  \n999  [Police:, Man, arrested, for, February, shooti...      0                1  \n\n[1000 rows x 5 columns]",
      "text/html": "<div>\n<style scoped>\n    .dataframe tbody tr th:only-of-type {\n        vertical-align: middle;\n    }\n\n    .dataframe tbody tr th {\n        vertical-align: top;\n    }\n\n    .dataframe thead th {\n        text-align: right;\n    }\n</style>\n<table border=\"1\" class=\"dataframe\">\n  <thead>\n    <tr style=\"text-align: right;\">\n      <th></th>\n      <th>Unnamed: 0</th>\n      <th>content</th>\n      <th>sent_tokens</th>\n      <th>tag_#</th>\n      <th>tag_normal sent</th>\n    </tr>\n  </thead>\n  <tbody>\n    <tr>\n      <th>0</th>\n      <td>127447</td>\n      <td>LIVE STREAM VIDEO=&gt; Donald Trump Rallies in Co...</td>\n      <td>[LIVE, STREAM, VIDEO=&gt;, Donald, Trump, Rallies...</td>\n      <td>0</td>\n      <td>1</td>\n    </tr>\n    <tr>\n      <th>1</th>\n      <td>123642</td>\n      <td>Muslim Attacks NYPD Cops with Meat Cleaver. Me...</td>\n      <td>[Muslim, Attacks, NYPD, Cops, with, Meat, Clea...</td>\n      <td>0</td>\n      <td>1</td>\n    </tr>\n    <tr>\n      <th>2</th>\n      <td>226970</td>\n      <td>.@vfpatlas well that's a swella word there (di...</td>\n      <td>[.@vfpatlas, well, that's, a, swella, word, th...</td>\n      <td>0</td>\n      <td>1</td>\n    </tr>\n    <tr>\n      <th>3</th>\n      <td>138339</td>\n      <td>RT wehking_pamela: Bobby_Axelrod2k MMFlint don...</td>\n      <td>[RT, wehking_pamela:, Bobby_Axelrod2k, MMFlint...</td>\n      <td>0</td>\n      <td>1</td>\n    </tr>\n    <tr>\n      <th>4</th>\n      <td>161610</td>\n      <td>Жители обстреливаемых районов Донецка проводят...</td>\n      <td>[Жители, обстреливаемых, районов, Донецка, про...</td>\n      <td>0</td>\n      <td>1</td>\n    </tr>\n    <tr>\n      <th>...</th>\n      <td>...</td>\n      <td>...</td>\n      <td>...</td>\n      <td>...</td>\n      <td>...</td>\n    </tr>\n    <tr>\n      <th>995</th>\n      <td>24329</td>\n      <td>How To Inspire People With Your Music! https:/...</td>\n      <td>[How, To, Inspire, People, With, Your, Music!,...</td>\n      <td>0</td>\n      <td>1</td>\n    </tr>\n    <tr>\n      <th>996</th>\n      <td>315060</td>\n      <td>... https://t.co/AfWdTkKQlm</td>\n      <td>[..., https://t.co/AfWdTkKQlm]</td>\n      <td>0</td>\n      <td>1</td>\n    </tr>\n    <tr>\n      <th>997</th>\n      <td>361901</td>\n      <td>Trevor Noah: Until we start treating racism li...</td>\n      <td>[Trevor, Noah:, Until, we, start, treating, ra...</td>\n      <td>0</td>\n      <td>1</td>\n    </tr>\n    <tr>\n      <th>998</th>\n      <td>119948</td>\n      <td>SenSanders: RT SenJeffMerkley: We must act bol...</td>\n      <td>[SenSanders:, RT, SenJeffMerkley:, We, must, a...</td>\n      <td>0</td>\n      <td>1</td>\n    </tr>\n    <tr>\n      <th>999</th>\n      <td>242678</td>\n      <td>Police: Man arrested for February shooting at ...</td>\n      <td>[Police:, Man, arrested, for, February, shooti...</td>\n      <td>0</td>\n      <td>1</td>\n    </tr>\n  </tbody>\n</table>\n<p>1000 rows × 5 columns</p>\n</div>"
     },
     "execution_count": 72,
     "metadata": {},
     "output_type": "execute_result"
    }
   ],
   "source": [
    "pd.get_dummies(russian_tweets_df, columns=['tag'])"
   ],
   "metadata": {
    "collapsed": false,
    "pycharm": {
     "name": "#%%\n"
    }
   }
  }
 ],
 "metadata": {
  "kernelspec": {
   "display_name": "Python 3",
   "language": "python",
   "name": "python3"
  },
  "language_info": {
   "codemirror_mode": {
    "name": "ipython",
    "version": 2
   },
   "file_extension": ".py",
   "mimetype": "text/x-python",
   "name": "python",
   "nbconvert_exporter": "python",
   "pygments_lexer": "ipython2",
   "version": "2.7.6"
  }
 },
 "nbformat": 4,
 "nbformat_minor": 0
}