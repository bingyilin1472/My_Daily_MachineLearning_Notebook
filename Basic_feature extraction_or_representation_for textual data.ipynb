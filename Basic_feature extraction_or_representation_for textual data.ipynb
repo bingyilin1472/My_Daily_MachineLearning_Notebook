{
 "cells": [
  {
   "cell_type": "code",
   "execution_count": 13,
   "outputs": [],
   "source": [
    "import pandas as pd\n",
    "import nltk\n",
    "from textatistic import Textatistic"
   ],
   "metadata": {
    "collapsed": false,
    "pycharm": {
     "name": "#%%\n"
    }
   }
  },
  {
   "cell_type": "markdown",
   "source": [
    "### Punkt sentence tokenizer\n",
    "- 採用Punkt斷詞模型(可以有比較好的斷詞效果，相較string的splitting方法)"
   ],
   "metadata": {
    "collapsed": false,
    "pycharm": {
     "name": "#%% md\n"
    }
   }
  },
  {
   "cell_type": "code",
   "execution_count": 1,
   "outputs": [
    {
     "ename": "NameError",
     "evalue": "name 'nltk' is not defined",
     "output_type": "error",
     "traceback": [
      "\u001B[1;31m---------------------------------------------------------------------------\u001B[0m",
      "\u001B[1;31mNameError\u001B[0m                                 Traceback (most recent call last)",
      "\u001B[1;32m<ipython-input-1-802ea2424914>\u001B[0m in \u001B[0;36m<module>\u001B[1;34m\u001B[0m\n\u001B[1;32m----> 1\u001B[1;33m \u001B[0mnltk\u001B[0m\u001B[1;33m.\u001B[0m\u001B[0mdownload\u001B[0m\u001B[1;33m(\u001B[0m\u001B[1;34m'punkt'\u001B[0m\u001B[1;33m)\u001B[0m\u001B[1;33m\u001B[0m\u001B[1;33m\u001B[0m\u001B[0m\n\u001B[0m\u001B[0;32m      2\u001B[0m \u001B[1;33m\u001B[0m\u001B[0m\n",
      "\u001B[1;31mNameError\u001B[0m: name 'nltk' is not defined"
     ]
    }
   ],
   "source": [
    "nltk.download('punkt')"
   ],
   "metadata": {
    "collapsed": false,
    "pycharm": {
     "name": "#%%\n"
    }
   }
  },
  {
   "cell_type": "markdown",
   "metadata": {
    "collapsed": true,
    "pycharm": {
     "name": "#%% md\n"
    }
   },
   "source": [
    "## One-hot encoding\n",
    "- It is also called as Dummy Variable虛擬變數。\n",
    "- 常用來轉換Categorical data or Textual data into numeric data\n",
    "- 優點自然是拓展features數量，增加特徵數量就可以多一個預測的依據\n",
    "- 轉化過的特徵為各自獨立、分開，這未必是優點，因為會導致之間的interactions無法被抓取\n",
    "- 各自獨立，有利於feature selection並且找出對於target最有影響力的關鍵特徵<br>\n",
    "這特色很適合配合regression analysis回歸分析使用"
   ]
  },
  {
   "cell_type": "markdown",
   "source": [
    "## One-hot encoding表達textual data的weaknesses\n",
    "- 若article/paragraph/article為一個category那會完全無相似性可以比較\n",
    "- 若用one-hot encoding針對word是否(True/False)來比對則writers之間比較上又沒差異(under-fitting)\n",
    "- word-count相對來說比較有差異性\n",
    "\n",
    "## Representation of Word count\n",
    "- 但它問題跟dummy variable差不多，雖然他抽象層級上比one-hot encoding來得好，但是會有curse dimensionality\n",
    "- 另一個問題是，sparse matrix，很多0，這會造成training上的難題"
   ],
   "metadata": {
    "collapsed": false,
    "pycharm": {
     "name": "#%% md\n"
    }
   }
  },
  {
   "cell_type": "code",
   "execution_count": 12,
   "outputs": [],
   "source": [
    "russian_tweets_df = pd.read_csv(\"russian_tweets.csv\")\n",
    "ted_df = pd.read_csv(\"ted.csv\")"
   ],
   "metadata": {
    "collapsed": false,
    "pycharm": {
     "name": "#%%\n"
    }
   }
  },
  {
   "cell_type": "code",
   "execution_count": 9,
   "outputs": [
    {
     "data": {
      "text/plain": "   Unnamed: 0                                            content\n0      127447  LIVE STREAM VIDEO=> Donald Trump Rallies in Co...\n1      123642  Muslim Attacks NYPD Cops with Meat Cleaver. Me...\n2      226970  .@vfpatlas well that's a swella word there (di...\n3      138339  RT wehking_pamela: Bobby_Axelrod2k MMFlint don...\n4      161610  Жители обстреливаемых районов Донецка проводят...",
      "text/html": "<div>\n<style scoped>\n    .dataframe tbody tr th:only-of-type {\n        vertical-align: middle;\n    }\n\n    .dataframe tbody tr th {\n        vertical-align: top;\n    }\n\n    .dataframe thead th {\n        text-align: right;\n    }\n</style>\n<table border=\"1\" class=\"dataframe\">\n  <thead>\n    <tr style=\"text-align: right;\">\n      <th></th>\n      <th>Unnamed: 0</th>\n      <th>content</th>\n    </tr>\n  </thead>\n  <tbody>\n    <tr>\n      <th>0</th>\n      <td>127447</td>\n      <td>LIVE STREAM VIDEO=&gt; Donald Trump Rallies in Co...</td>\n    </tr>\n    <tr>\n      <th>1</th>\n      <td>123642</td>\n      <td>Muslim Attacks NYPD Cops with Meat Cleaver. Me...</td>\n    </tr>\n    <tr>\n      <th>2</th>\n      <td>226970</td>\n      <td>.@vfpatlas well that's a swella word there (di...</td>\n    </tr>\n    <tr>\n      <th>3</th>\n      <td>138339</td>\n      <td>RT wehking_pamela: Bobby_Axelrod2k MMFlint don...</td>\n    </tr>\n    <tr>\n      <th>4</th>\n      <td>161610</td>\n      <td>Жители обстреливаемых районов Донецка проводят...</td>\n    </tr>\n  </tbody>\n</table>\n</div>"
     },
     "execution_count": 9,
     "metadata": {},
     "output_type": "execute_result"
    }
   ],
   "source": [
    "russian_tweets_df.head()"
   ],
   "metadata": {
    "collapsed": false,
    "pycharm": {
     "name": "#%%\n"
    }
   }
  },
  {
   "cell_type": "code",
   "execution_count": 13,
   "outputs": [
    {
     "data": {
      "text/plain": "                                          transcript  \\\n0  We're going to talk — my — a new lecture, just...   \n1  This is a representation of your brain, and yo...   \n2  It's a great honor today to share with you The...   \n3  My passions are music, technology and making t...   \n4  It used to be that if you wanted to get a comp...   \n\n                                                 url  \n0  https://www.ted.com/talks/al_seckel_says_our_b...  \n1  https://www.ted.com/talks/aaron_o_connell_maki...  \n2  https://www.ted.com/talks/carter_emmart_demos_...  \n3  https://www.ted.com/talks/jared_ficklin_new_wa...  \n4  https://www.ted.com/talks/jeremy_howard_the_wo...  ",
      "text/html": "<div>\n<style scoped>\n    .dataframe tbody tr th:only-of-type {\n        vertical-align: middle;\n    }\n\n    .dataframe tbody tr th {\n        vertical-align: top;\n    }\n\n    .dataframe thead th {\n        text-align: right;\n    }\n</style>\n<table border=\"1\" class=\"dataframe\">\n  <thead>\n    <tr style=\"text-align: right;\">\n      <th></th>\n      <th>transcript</th>\n      <th>url</th>\n    </tr>\n  </thead>\n  <tbody>\n    <tr>\n      <th>0</th>\n      <td>We're going to talk — my — a new lecture, just...</td>\n      <td>https://www.ted.com/talks/al_seckel_says_our_b...</td>\n    </tr>\n    <tr>\n      <th>1</th>\n      <td>This is a representation of your brain, and yo...</td>\n      <td>https://www.ted.com/talks/aaron_o_connell_maki...</td>\n    </tr>\n    <tr>\n      <th>2</th>\n      <td>It's a great honor today to share with you The...</td>\n      <td>https://www.ted.com/talks/carter_emmart_demos_...</td>\n    </tr>\n    <tr>\n      <th>3</th>\n      <td>My passions are music, technology and making t...</td>\n      <td>https://www.ted.com/talks/jared_ficklin_new_wa...</td>\n    </tr>\n    <tr>\n      <th>4</th>\n      <td>It used to be that if you wanted to get a comp...</td>\n      <td>https://www.ted.com/talks/jeremy_howard_the_wo...</td>\n    </tr>\n  </tbody>\n</table>\n</div>"
     },
     "execution_count": 13,
     "metadata": {},
     "output_type": "execute_result"
    }
   ],
   "source": [
    "ted_df.head()"
   ],
   "metadata": {
    "collapsed": false,
    "pycharm": {
     "name": "#%%\n"
    }
   }
  },
  {
   "cell_type": "markdown",
   "source": [
    "### pandas df的apply method\n",
    "apply是在做transformation用，他可以帶入某func給該欄位做轉換\n",
    "- 這邊計算the number of characters of content\n",
    "- 其實# of char也是一種textual data轉numeric的representation<br>\n",
    "(There are a bit meaningful insights in the lengths of contents)\n",
    "- 不過其實char count單位比較小，可能產生的意義會比較少，但是還是可以作為一些sentiment analysis的參考，譬如文長、文短也有許多文外的意思存在"
   ],
   "metadata": {
    "collapsed": false,
    "pycharm": {
     "name": "#%% md\n"
    }
   }
  },
  {
   "cell_type": "markdown",
   "source": [
    "### pandas df的column的mean() method\n",
    "這個比較是在整體的中間值center，可作為一個衡量標準，This concept is based on statistics"
   ],
   "metadata": {
    "collapsed": false,
    "pycharm": {
     "name": "#%% md\n"
    }
   }
  },
  {
   "cell_type": "code",
   "execution_count": 10,
   "outputs": [
    {
     "data": {
      "text/plain": "   Unnamed: 0                                            content  char_count\n0      127447  LIVE STREAM VIDEO=> Donald Trump Rallies in Co...         130\n1      123642  Muslim Attacks NYPD Cops with Meat Cleaver. Me...         138\n2      226970  .@vfpatlas well that's a swella word there (di...          65\n3      138339  RT wehking_pamela: Bobby_Axelrod2k MMFlint don...         139\n4      161610  Жители обстреливаемых районов Донецка проводят...         131",
      "text/html": "<div>\n<style scoped>\n    .dataframe tbody tr th:only-of-type {\n        vertical-align: middle;\n    }\n\n    .dataframe tbody tr th {\n        vertical-align: top;\n    }\n\n    .dataframe thead th {\n        text-align: right;\n    }\n</style>\n<table border=\"1\" class=\"dataframe\">\n  <thead>\n    <tr style=\"text-align: right;\">\n      <th></th>\n      <th>Unnamed: 0</th>\n      <th>content</th>\n      <th>char_count</th>\n    </tr>\n  </thead>\n  <tbody>\n    <tr>\n      <th>0</th>\n      <td>127447</td>\n      <td>LIVE STREAM VIDEO=&gt; Donald Trump Rallies in Co...</td>\n      <td>130</td>\n    </tr>\n    <tr>\n      <th>1</th>\n      <td>123642</td>\n      <td>Muslim Attacks NYPD Cops with Meat Cleaver. Me...</td>\n      <td>138</td>\n    </tr>\n    <tr>\n      <th>2</th>\n      <td>226970</td>\n      <td>.@vfpatlas well that's a swella word there (di...</td>\n      <td>65</td>\n    </tr>\n    <tr>\n      <th>3</th>\n      <td>138339</td>\n      <td>RT wehking_pamela: Bobby_Axelrod2k MMFlint don...</td>\n      <td>139</td>\n    </tr>\n    <tr>\n      <th>4</th>\n      <td>161610</td>\n      <td>Жители обстреливаемых районов Донецка проводят...</td>\n      <td>131</td>\n    </tr>\n  </tbody>\n</table>\n</div>"
     },
     "execution_count": 10,
     "metadata": {},
     "output_type": "execute_result"
    }
   ],
   "source": [
    "russian_tweets_df['char_count'] = russian_tweets_df['content'].apply(len)\n",
    "russian_tweets_df.head()"
   ],
   "metadata": {
    "collapsed": false,
    "pycharm": {
     "name": "#%%\n"
    }
   }
  },
  {
   "cell_type": "code",
   "execution_count": 11,
   "outputs": [
    {
     "data": {
      "text/plain": "103.462"
     },
     "execution_count": 11,
     "metadata": {},
     "output_type": "execute_result"
    }
   ],
   "source": [
    "russian_tweets_content_mean = russian_tweets_df['char_count'].mean()\n",
    "russian_tweets_content_mean"
   ],
   "metadata": {
    "collapsed": false,
    "pycharm": {
     "name": "#%%\n"
    }
   }
  },
  {
   "cell_type": "markdown",
   "source": [
    "## Tokenization斷詞\n",
    "這邊不採用splitting的方式來進行斷詞，因為他的斷詞rules過於簡單，單純以space char來進行，自然會有許多切不開的情況發生\n",
    "<br>(splitting方式就是寫token_func配合apply，逐筆去處理)\n",
    "- Tokenization is to break and split text into smaller chunk\n",
    "- 採用nltk的word_tokenize，之前有聽過nltk並非industrial level的tool，因此量大的時候就得斟酌使用<br>\n",
    "(其實nltk跑得挺慢的...)"
   ],
   "metadata": {
    "collapsed": false,
    "pycharm": {
     "name": "#%% md\n"
    }
   }
  },
  {
   "cell_type": "code",
   "execution_count": 9,
   "outputs": [],
   "source": [
    "def tokenization(content_str):\n",
    "    token_list = nltk.word_tokenize(content_str)\n",
    "    return token_list\n",
    "def token_count(word_list):\n",
    "    return len(word_list)"
   ],
   "metadata": {
    "collapsed": false,
    "pycharm": {
     "name": "#%%\n"
    }
   }
  },
  {
   "cell_type": "code",
   "execution_count": 22,
   "outputs": [
    {
     "data": {
      "text/plain": "                                          transcript  \\\n0  We're going to talk — my — a new lecture, just...   \n1  This is a representation of your brain, and yo...   \n2  It's a great honor today to share with you The...   \n3  My passions are music, technology and making t...   \n4  It used to be that if you wanted to get a comp...   \n\n                                                 url  \\\n0  https://www.ted.com/talks/al_seckel_says_our_b...   \n1  https://www.ted.com/talks/aaron_o_connell_maki...   \n2  https://www.ted.com/talks/carter_emmart_demos_...   \n3  https://www.ted.com/talks/jared_ficklin_new_wa...   \n4  https://www.ted.com/talks/jeremy_howard_the_wo...   \n\n                                          word_count  \\\n0  [We, 're, going, to, talk, —, my, —, a, new, l...   \n1  [This, is, a, representation, of, your, brain,...   \n2  [It, 's, a, great, honor, today, to, share, wi...   \n3  [My, passions, are, music, ,, technology, and,...   \n4  [It, used, to, be, that, if, you, wanted, to, ...   \n\n                                         sent_tokens  token_count  \n0  [We, 're, going, to, talk, —, my, —, a, new, l...         2003  \n1  [This, is, a, representation, of, your, brain,...         1595  \n2  [It, 's, a, great, honor, today, to, share, wi...         1001  \n3  [My, passions, are, music, ,, technology, and,...         1826  \n4  [It, used, to, be, that, if, you, wanted, to, ...         3974  ",
      "text/html": "<div>\n<style scoped>\n    .dataframe tbody tr th:only-of-type {\n        vertical-align: middle;\n    }\n\n    .dataframe tbody tr th {\n        vertical-align: top;\n    }\n\n    .dataframe thead th {\n        text-align: right;\n    }\n</style>\n<table border=\"1\" class=\"dataframe\">\n  <thead>\n    <tr style=\"text-align: right;\">\n      <th></th>\n      <th>transcript</th>\n      <th>url</th>\n      <th>word_count</th>\n      <th>sent_tokens</th>\n      <th>token_count</th>\n    </tr>\n  </thead>\n  <tbody>\n    <tr>\n      <th>0</th>\n      <td>We're going to talk — my — a new lecture, just...</td>\n      <td>https://www.ted.com/talks/al_seckel_says_our_b...</td>\n      <td>[We, 're, going, to, talk, —, my, —, a, new, l...</td>\n      <td>[We, 're, going, to, talk, —, my, —, a, new, l...</td>\n      <td>2003</td>\n    </tr>\n    <tr>\n      <th>1</th>\n      <td>This is a representation of your brain, and yo...</td>\n      <td>https://www.ted.com/talks/aaron_o_connell_maki...</td>\n      <td>[This, is, a, representation, of, your, brain,...</td>\n      <td>[This, is, a, representation, of, your, brain,...</td>\n      <td>1595</td>\n    </tr>\n    <tr>\n      <th>2</th>\n      <td>It's a great honor today to share with you The...</td>\n      <td>https://www.ted.com/talks/carter_emmart_demos_...</td>\n      <td>[It, 's, a, great, honor, today, to, share, wi...</td>\n      <td>[It, 's, a, great, honor, today, to, share, wi...</td>\n      <td>1001</td>\n    </tr>\n    <tr>\n      <th>3</th>\n      <td>My passions are music, technology and making t...</td>\n      <td>https://www.ted.com/talks/jared_ficklin_new_wa...</td>\n      <td>[My, passions, are, music, ,, technology, and,...</td>\n      <td>[My, passions, are, music, ,, technology, and,...</td>\n      <td>1826</td>\n    </tr>\n    <tr>\n      <th>4</th>\n      <td>It used to be that if you wanted to get a comp...</td>\n      <td>https://www.ted.com/talks/jeremy_howard_the_wo...</td>\n      <td>[It, used, to, be, that, if, you, wanted, to, ...</td>\n      <td>[It, used, to, be, that, if, you, wanted, to, ...</td>\n      <td>3974</td>\n    </tr>\n  </tbody>\n</table>\n</div>"
     },
     "execution_count": 22,
     "metadata": {},
     "output_type": "execute_result"
    }
   ],
   "source": [
    "ted_df['sent_tokens'] = ted_df['transcript'].apply(tokenization)\n",
    "ted_df['token_count'] = ted_df['sent_tokens'].apply(token_count)\n",
    "ted_df.head()"
   ],
   "metadata": {
    "collapsed": false,
    "pycharm": {
     "name": "#%%\n"
    }
   }
  },
  {
   "cell_type": "markdown",
   "source": [
    "### The mean of # of words\n",
    "- 我認為這比# of chars來說，more representative and less noises\n",
    "- There are less noises. 我認為單存字母的量構成的長度大小其實很多都是noise雜訊，那樣的representation並不具有representative代表性"
   ],
   "metadata": {
    "collapsed": false,
    "pycharm": {
     "name": "#%% md\n"
    }
   }
  },
  {
   "cell_type": "code",
   "execution_count": 24,
   "outputs": [
    {
     "data": {
      "text/plain": "2344.85"
     },
     "execution_count": 24,
     "metadata": {},
     "output_type": "execute_result"
    }
   ],
   "source": [
    "ted_df['token_count'].mean()"
   ],
   "metadata": {
    "collapsed": false,
    "pycharm": {
     "name": "#%%\n"
    }
   }
  },
  {
   "cell_type": "markdown",
   "source": [
    "### Hashtag detection by str startswith()\n",
    "- social network經常會有hashtag在初始位址，透過這個方法可以startswith()可以做偵測\n",
    "- 並以one-hot encoding方式來做分類，可以做為分析的一種依據與區隔<br>\n",
    "(可以配合stratification方式，依據hashtag種類座分層，將句子做分類後，做各自獨立的分析，可能會較具代表性)"
   ],
   "metadata": {
    "collapsed": false,
    "pycharm": {
     "name": "#%% md\n"
    }
   }
  },
  {
   "cell_type": "code",
   "execution_count": 69,
   "outputs": [],
   "source": [
    "def hash_tags(token_list):\n",
    "    if token_list[0].startswith('#'):\n",
    "        tag = '#'\n",
    "    else:\n",
    "        tag = 'normal sent'\n",
    "    return tag\n",
    "def word_split(sent):\n",
    "    # default 分隔為space char\n",
    "    words = sent.split()\n",
    "    return words"
   ],
   "metadata": {
    "collapsed": false,
    "pycharm": {
     "name": "#%%\n"
    }
   }
  },
  {
   "cell_type": "code",
   "execution_count": 70,
   "outputs": [
    {
     "data": {
      "text/plain": "   Unnamed: 0                                            content  \\\n0      127447  LIVE STREAM VIDEO=> Donald Trump Rallies in Co...   \n1      123642  Muslim Attacks NYPD Cops with Meat Cleaver. Me...   \n2      226970  .@vfpatlas well that's a swella word there (di...   \n3      138339  RT wehking_pamela: Bobby_Axelrod2k MMFlint don...   \n4      161610  Жители обстреливаемых районов Донецка проводят...   \n\n                                         sent_tokens          tag  \n0  [LIVE, STREAM, VIDEO=>, Donald, Trump, Rallies...  normal sent  \n1  [Muslim, Attacks, NYPD, Cops, with, Meat, Clea...  normal sent  \n2  [.@vfpatlas, well, that's, a, swella, word, th...  normal sent  \n3  [RT, wehking_pamela:, Bobby_Axelrod2k, MMFlint...  normal sent  \n4  [Жители, обстреливаемых, районов, Донецка, про...  normal sent  ",
      "text/html": "<div>\n<style scoped>\n    .dataframe tbody tr th:only-of-type {\n        vertical-align: middle;\n    }\n\n    .dataframe tbody tr th {\n        vertical-align: top;\n    }\n\n    .dataframe thead th {\n        text-align: right;\n    }\n</style>\n<table border=\"1\" class=\"dataframe\">\n  <thead>\n    <tr style=\"text-align: right;\">\n      <th></th>\n      <th>Unnamed: 0</th>\n      <th>content</th>\n      <th>sent_tokens</th>\n      <th>tag</th>\n    </tr>\n  </thead>\n  <tbody>\n    <tr>\n      <th>0</th>\n      <td>127447</td>\n      <td>LIVE STREAM VIDEO=&gt; Donald Trump Rallies in Co...</td>\n      <td>[LIVE, STREAM, VIDEO=&gt;, Donald, Trump, Rallies...</td>\n      <td>normal sent</td>\n    </tr>\n    <tr>\n      <th>1</th>\n      <td>123642</td>\n      <td>Muslim Attacks NYPD Cops with Meat Cleaver. Me...</td>\n      <td>[Muslim, Attacks, NYPD, Cops, with, Meat, Clea...</td>\n      <td>normal sent</td>\n    </tr>\n    <tr>\n      <th>2</th>\n      <td>226970</td>\n      <td>.@vfpatlas well that's a swella word there (di...</td>\n      <td>[.@vfpatlas, well, that's, a, swella, word, th...</td>\n      <td>normal sent</td>\n    </tr>\n    <tr>\n      <th>3</th>\n      <td>138339</td>\n      <td>RT wehking_pamela: Bobby_Axelrod2k MMFlint don...</td>\n      <td>[RT, wehking_pamela:, Bobby_Axelrod2k, MMFlint...</td>\n      <td>normal sent</td>\n    </tr>\n    <tr>\n      <th>4</th>\n      <td>161610</td>\n      <td>Жители обстреливаемых районов Донецка проводят...</td>\n      <td>[Жители, обстреливаемых, районов, Донецка, про...</td>\n      <td>normal sent</td>\n    </tr>\n  </tbody>\n</table>\n</div>"
     },
     "execution_count": 70,
     "metadata": {},
     "output_type": "execute_result"
    }
   ],
   "source": [
    "#因為沒有russian tokenization model因此採用splitting way\n",
    "russian_tweets_df['sent_tokens'] = russian_tweets_df['content'].apply(word_split)\n",
    "russian_tweets_df.head()"
   ],
   "metadata": {
    "collapsed": false,
    "pycharm": {
     "name": "#%%\n"
    }
   }
  },
  {
   "cell_type": "code",
   "execution_count": 71,
   "outputs": [
    {
     "data": {
      "text/plain": "   Unnamed: 0                                            content  \\\n0      127447  LIVE STREAM VIDEO=> Donald Trump Rallies in Co...   \n1      123642  Muslim Attacks NYPD Cops with Meat Cleaver. Me...   \n2      226970  .@vfpatlas well that's a swella word there (di...   \n3      138339  RT wehking_pamela: Bobby_Axelrod2k MMFlint don...   \n4      161610  Жители обстреливаемых районов Донецка проводят...   \n\n                                         sent_tokens          tag  \n0  [LIVE, STREAM, VIDEO=>, Donald, Trump, Rallies...  normal sent  \n1  [Muslim, Attacks, NYPD, Cops, with, Meat, Clea...  normal sent  \n2  [.@vfpatlas, well, that's, a, swella, word, th...  normal sent  \n3  [RT, wehking_pamela:, Bobby_Axelrod2k, MMFlint...  normal sent  \n4  [Жители, обстреливаемых, районов, Донецка, про...  normal sent  ",
      "text/html": "<div>\n<style scoped>\n    .dataframe tbody tr th:only-of-type {\n        vertical-align: middle;\n    }\n\n    .dataframe tbody tr th {\n        vertical-align: top;\n    }\n\n    .dataframe thead th {\n        text-align: right;\n    }\n</style>\n<table border=\"1\" class=\"dataframe\">\n  <thead>\n    <tr style=\"text-align: right;\">\n      <th></th>\n      <th>Unnamed: 0</th>\n      <th>content</th>\n      <th>sent_tokens</th>\n      <th>tag</th>\n    </tr>\n  </thead>\n  <tbody>\n    <tr>\n      <th>0</th>\n      <td>127447</td>\n      <td>LIVE STREAM VIDEO=&gt; Donald Trump Rallies in Co...</td>\n      <td>[LIVE, STREAM, VIDEO=&gt;, Donald, Trump, Rallies...</td>\n      <td>normal sent</td>\n    </tr>\n    <tr>\n      <th>1</th>\n      <td>123642</td>\n      <td>Muslim Attacks NYPD Cops with Meat Cleaver. Me...</td>\n      <td>[Muslim, Attacks, NYPD, Cops, with, Meat, Clea...</td>\n      <td>normal sent</td>\n    </tr>\n    <tr>\n      <th>2</th>\n      <td>226970</td>\n      <td>.@vfpatlas well that's a swella word there (di...</td>\n      <td>[.@vfpatlas, well, that's, a, swella, word, th...</td>\n      <td>normal sent</td>\n    </tr>\n    <tr>\n      <th>3</th>\n      <td>138339</td>\n      <td>RT wehking_pamela: Bobby_Axelrod2k MMFlint don...</td>\n      <td>[RT, wehking_pamela:, Bobby_Axelrod2k, MMFlint...</td>\n      <td>normal sent</td>\n    </tr>\n    <tr>\n      <th>4</th>\n      <td>161610</td>\n      <td>Жители обстреливаемых районов Донецка проводят...</td>\n      <td>[Жители, обстреливаемых, районов, Донецка, про...</td>\n      <td>normal sent</td>\n    </tr>\n  </tbody>\n</table>\n</div>"
     },
     "execution_count": 71,
     "metadata": {},
     "output_type": "execute_result"
    }
   ],
   "source": [
    "russian_tweets_df['tag'] = russian_tweets_df['sent_tokens'].apply(hash_tags)\n",
    "russian_tweets_df.head()"
   ],
   "metadata": {
    "collapsed": false,
    "pycharm": {
     "name": "#%%\n"
    }
   }
  },
  {
   "cell_type": "markdown",
   "source": [
    "### Getting dummy variables\n",
    "- Through pd.get_dummies method"
   ],
   "metadata": {
    "collapsed": false,
    "pycharm": {
     "name": "#%% md\n"
    }
   }
  },
  {
   "cell_type": "code",
   "execution_count": 72,
   "outputs": [
    {
     "data": {
      "text/plain": "     Unnamed: 0                                            content  \\\n0        127447  LIVE STREAM VIDEO=> Donald Trump Rallies in Co...   \n1        123642  Muslim Attacks NYPD Cops with Meat Cleaver. Me...   \n2        226970  .@vfpatlas well that's a swella word there (di...   \n3        138339  RT wehking_pamela: Bobby_Axelrod2k MMFlint don...   \n4        161610  Жители обстреливаемых районов Донецка проводят...   \n..          ...                                                ...   \n995       24329  How To Inspire People With Your Music! https:/...   \n996      315060                        ... https://t.co/AfWdTkKQlm   \n997      361901  Trevor Noah: Until we start treating racism li...   \n998      119948  SenSanders: RT SenJeffMerkley: We must act bol...   \n999      242678  Police: Man arrested for February shooting at ...   \n\n                                           sent_tokens  tag_#  tag_normal sent  \n0    [LIVE, STREAM, VIDEO=>, Donald, Trump, Rallies...      0                1  \n1    [Muslim, Attacks, NYPD, Cops, with, Meat, Clea...      0                1  \n2    [.@vfpatlas, well, that's, a, swella, word, th...      0                1  \n3    [RT, wehking_pamela:, Bobby_Axelrod2k, MMFlint...      0                1  \n4    [Жители, обстреливаемых, районов, Донецка, про...      0                1  \n..                                                 ...    ...              ...  \n995  [How, To, Inspire, People, With, Your, Music!,...      0                1  \n996                     [..., https://t.co/AfWdTkKQlm]      0                1  \n997  [Trevor, Noah:, Until, we, start, treating, ra...      0                1  \n998  [SenSanders:, RT, SenJeffMerkley:, We, must, a...      0                1  \n999  [Police:, Man, arrested, for, February, shooti...      0                1  \n\n[1000 rows x 5 columns]",
      "text/html": "<div>\n<style scoped>\n    .dataframe tbody tr th:only-of-type {\n        vertical-align: middle;\n    }\n\n    .dataframe tbody tr th {\n        vertical-align: top;\n    }\n\n    .dataframe thead th {\n        text-align: right;\n    }\n</style>\n<table border=\"1\" class=\"dataframe\">\n  <thead>\n    <tr style=\"text-align: right;\">\n      <th></th>\n      <th>Unnamed: 0</th>\n      <th>content</th>\n      <th>sent_tokens</th>\n      <th>tag_#</th>\n      <th>tag_normal sent</th>\n    </tr>\n  </thead>\n  <tbody>\n    <tr>\n      <th>0</th>\n      <td>127447</td>\n      <td>LIVE STREAM VIDEO=&gt; Donald Trump Rallies in Co...</td>\n      <td>[LIVE, STREAM, VIDEO=&gt;, Donald, Trump, Rallies...</td>\n      <td>0</td>\n      <td>1</td>\n    </tr>\n    <tr>\n      <th>1</th>\n      <td>123642</td>\n      <td>Muslim Attacks NYPD Cops with Meat Cleaver. Me...</td>\n      <td>[Muslim, Attacks, NYPD, Cops, with, Meat, Clea...</td>\n      <td>0</td>\n      <td>1</td>\n    </tr>\n    <tr>\n      <th>2</th>\n      <td>226970</td>\n      <td>.@vfpatlas well that's a swella word there (di...</td>\n      <td>[.@vfpatlas, well, that's, a, swella, word, th...</td>\n      <td>0</td>\n      <td>1</td>\n    </tr>\n    <tr>\n      <th>3</th>\n      <td>138339</td>\n      <td>RT wehking_pamela: Bobby_Axelrod2k MMFlint don...</td>\n      <td>[RT, wehking_pamela:, Bobby_Axelrod2k, MMFlint...</td>\n      <td>0</td>\n      <td>1</td>\n    </tr>\n    <tr>\n      <th>4</th>\n      <td>161610</td>\n      <td>Жители обстреливаемых районов Донецка проводят...</td>\n      <td>[Жители, обстреливаемых, районов, Донецка, про...</td>\n      <td>0</td>\n      <td>1</td>\n    </tr>\n    <tr>\n      <th>...</th>\n      <td>...</td>\n      <td>...</td>\n      <td>...</td>\n      <td>...</td>\n      <td>...</td>\n    </tr>\n    <tr>\n      <th>995</th>\n      <td>24329</td>\n      <td>How To Inspire People With Your Music! https:/...</td>\n      <td>[How, To, Inspire, People, With, Your, Music!,...</td>\n      <td>0</td>\n      <td>1</td>\n    </tr>\n    <tr>\n      <th>996</th>\n      <td>315060</td>\n      <td>... https://t.co/AfWdTkKQlm</td>\n      <td>[..., https://t.co/AfWdTkKQlm]</td>\n      <td>0</td>\n      <td>1</td>\n    </tr>\n    <tr>\n      <th>997</th>\n      <td>361901</td>\n      <td>Trevor Noah: Until we start treating racism li...</td>\n      <td>[Trevor, Noah:, Until, we, start, treating, ra...</td>\n      <td>0</td>\n      <td>1</td>\n    </tr>\n    <tr>\n      <th>998</th>\n      <td>119948</td>\n      <td>SenSanders: RT SenJeffMerkley: We must act bol...</td>\n      <td>[SenSanders:, RT, SenJeffMerkley:, We, must, a...</td>\n      <td>0</td>\n      <td>1</td>\n    </tr>\n    <tr>\n      <th>999</th>\n      <td>242678</td>\n      <td>Police: Man arrested for February shooting at ...</td>\n      <td>[Police:, Man, arrested, for, February, shooti...</td>\n      <td>0</td>\n      <td>1</td>\n    </tr>\n  </tbody>\n</table>\n<p>1000 rows × 5 columns</p>\n</div>"
     },
     "execution_count": 72,
     "metadata": {},
     "output_type": "execute_result"
    }
   ],
   "source": [
    "pd.get_dummies(russian_tweets_df, columns=['tag'])"
   ],
   "metadata": {
    "collapsed": false,
    "pycharm": {
     "name": "#%%\n"
    }
   }
  },
  {
   "cell_type": "markdown",
   "source": [
    "### Readability Testing\n",
    "- This testing is to determine how easy the passage is to read or understand\n",
    "- 有很多種最常見的是Flesch Reading Ease與Gunning Fog Index\n",
    "- 多數是考量平均句子sentence的長度與音節syllable的長度，二者越長一般來說就越難閱讀<br>\n",
    "也可以由此推斷writer的教育程度\n",
    "- 這就是一種number of char (syllable長度)與number of words (sentence長度)的一種應用<br>\n",
    "(這樣的representation單純以長短就可以對易讀性與教育水平作一個斷定，有時候並不一定需要complex model)\n",
    "\n",
    "#### Flesch Reading Ease Scale\n",
    "這個scale是分數越大則越簡單，越容易閱讀\n",
    "\n",
    "- 90-100 very easy\n",
    "- 80-89 Easy\n",
    "- 70-79 Fairly Easy\n",
    "- 60-69 Standard\n",
    "- 50-59 Fairly Difficult\n",
    "- 30-49 Difficult\n",
    "- 0-29 Very Confusing\n",
    "\n",
    "#### Gunning Fog Index Scale\n",
    "他跟Flesch Reading Ease差異在於說，他的syllable是計算三音節(他稱之為complex word)以上的於總字數的比例，因此自然會比較Robust\n",
    "<br>(此scale是越大則越難讀，則水平越高)\n",
    "\n",
    "- 17 \tCollege graduate\n",
    "- 16 \tCollege senior\n",
    "- 15 \tCollege junior\n",
    "- 14 \tCollege sophomore\n",
    "- 13 \tCollege freshman\n",
    "- 12 \tHigh school senior\n",
    "- 11 \tHigh school junior\n",
    "- 10 \tHigh school sophomore\n",
    "- 9 \tHigh school freshman\n",
    "- 8 \tEighth grade\n",
    "- 7 \tSeventh grade\n",
    "- 6 \tSixth grade"
   ],
   "metadata": {
    "collapsed": false,
    "pycharm": {
     "name": "#%% md\n"
    }
   }
  },
  {
   "cell_type": "code",
   "execution_count": 14,
   "outputs": [
    {
     "data": {
      "text/plain": "'The gods had condemned Sisyphus to ceaselessly rolling a rock to the top of a mountain, whence the stone would fall back of its own weight. They had thought with some reason that there is no more dreadful punishment than futile and hopeless labor. If one believes Homer, Sisyphus was the wisest and most prudent of mortals. According to another tradition, however, he was disposed to practice the profession of highwayman. I see no contradiction in this. Opinions differ as to the reasons why he became the futile laborer of the underworld. To begin with, he is accused of a certain levity in regard to the gods. He stole their secrets. Egina, the daughter of Esopus, was carried off by Jupiter. The father was shocked by that disappearance and complained to Sisyphus. He, who knew of the abduction, offered to tell about it on condition that Esopus would give water to the citadel of Corinth. To the celestial thunderbolts he preferred the benediction of water. He was punished for this in the underworld. Homer tells us also that Sisyphus had put Death in chains. Pluto could not endure the sight of his deserted, silent empire. He dispatched the god of war, who liberated Death from the hands of her conqueror. It is said that Sisyphus, being near to death, rashly wanted to test his wife\\'s love. He ordered her to cast his unburied body into the middle of the public square. Sisyphus woke up in the underworld. And there, annoyed by an obedience so contrary to human love, he obtained from Pluto permission to return to earth in order to chastise his wife. But when he had seen again the face of this world, enjoyed water and sun, warm stones and the sea, he no longer wanted to go back to the infernal darkness. Recalls, signs of anger, warnings were of no avail. Many years more he lived facing the curve of the gulf, the sparkling sea, and the smiles of earth. A decree of the gods was necessary. Mercury came and seized the impudent man by the collar and, snatching him from his joys, lead him forcibly back to the underworld, where his rock was ready for him. You have already grasped that Sisyphus is the absurd hero. He is, as much through his passions as through his torture. His scorn of the gods, his hatred of death, and his passion for life won him that unspeakable penalty in which the whole being is exerted toward accomplishing nothing. This is the price that must be paid for the passions of this earth. Nothing is told us about Sisyphus in the underworld. Myths are made for the imagination to breathe life into them. As for this myth, one sees merely the whole effort of a body straining to raise the huge stone, to roll it, and push it up a slope a hundred times over; one sees the face screwed up, the cheek tight against the stone, the shoulder bracing the clay-covered mass, the foot wedging it, the fresh start with arms outstretched, the wholly human security of two earth-clotted hands. At the very end of his long effort measured by skyless space and time without depth, the purpose is achieved. Then Sisyphus watches the stone rush down in a few moments toward tlower world whence he will have to push it up again toward the summit. He goes back down to the plain. It is during that return, that pause, that Sisyphus interests me. A face that toils so close to stones is already stone itself! I see that man going back down with a heavy yet measured step toward the torment of which he will never know the end. That hour like a breathing-space which returns as surely as his suffering, that is the hour of consciousness. At each of those moments when he leaves the heights and gradually sinks toward the lairs of the gods, he is superior to his fate. He is stronger than his rock. If this myth is tragic, that is because its hero is conscious. Where would his torture be, indeed, if at every step the hope of succeeding upheld him? The workman of today works everyday in his life at the same tasks, and his fate is no less absurd. But it is tragic only at the rare moments when it becomes conscious. Sisyphus, proletarian of the gods, powerless and rebellious, knows the whole extent of his wretched condition: it is what he thinks of during his descent. The lucidity that was to constitute his torture at the same time crowns his victory. There is no fate that can not be surmounted by scorn. If the descent is thus sometimes performed in sorrow, it can also take place in joy. This word is not too much. Again I fancy Sisyphus returning toward his rock, and the sorrow was in the beginning. When the images of earth cling too tightly to memory, when the call of happiness becomes too insistent, it happens that melancholy arises in man\\'s heart: this is the rock\\'s victory, this is the rock itself. The boundless grief is too heavy to bear. These are our nights of Gethsemane. But crushing truths perish from being acknowledged. Thus, Edipus at the outset obeys fate without knowing it. But from the moment he knows, his tragedy begins. Yet at the same moment, blind and desperate, he realizes that the only bond linking him to the world is the cool hand of a girl. Then a tremendous remark rings out: \"Despite so many ordeals, my advanced age and the nobility of my soul make me conclude that all is well.\" Sophocles\\' Edipus, like Dostoevsky\\'s Kirilov, thus gives the recipe for the absurd victory. Ancient wisdom confirms modern heroism. One does not discover the absurd without being tempted to write a manual of happiness. \"What!---by such narrow ways--?\" There is but one world, however. Happiness and the absurd are two sons of the same earth. They are inseparable. It would be a mistake to say that happiness necessarily springs from the absurd. Discovery. It happens as well that the felling of the absurd springs from happiness. \"I conclude that all is well,\" says Edipus, and that remark is sacred. It echoes in the wild and limited universe of man. It teaches that all is not, has not been, exhausted. It drives out of this world a god who had come into it with dissatisfaction and a preference for futile suffering. It makes of fate a human matter, which must be settled among men. All Sisyphus\\' silent joy is contained therein. His fate belongs to him. His rock is a thing. Likewise, the absurd man, when he contemplates his torment, silences all the idols. In the universe suddenly restored to its silence, the myriad wondering little voices of the earth rise up. Unconscious, secret calls, invitations from all the faces, they are the necessary reverse and price of victory. There is no sun without shadow, and it is essential to know the night. The absurd man says yes and his efforts will henceforth be unceasing. If there is a personal fate, there is no higher destiny, or at least there is, but one which he concludes is inevitable and despicable. For the rest, he knows himself to be the master of his days. At that subtle moment when man glances backward over his life, Sisyphus returning toward his rock, in that slight pivoting he contemplates that series of unrelated actions which become his fate, created by him, combined under his memory\\'s eye and soon sealed by his death. Thus, convinced of the wholly human origin of all that is human, a blind man eager to see who knows that the night has no end, he is still on the go. The rock is still rolling. I leave Sisyphus at the foot of the mountain! One always finds one\\'s burden again. But Sisyphus teaches the higher fidelity that negates the gods and raises rocks. He too concludes that all is well. This universe henceforth without a master seems to him neither sterile nor futile. Each atom of that stone, each mineral flake of that night filled mountain, in itself forms a world. The struggle itself toward the heights is enough to fill a man\\'s heart. One must imagine Sisyphus happy.'"
     },
     "execution_count": 14,
     "metadata": {},
     "output_type": "execute_result"
    }
   ],
   "source": [
    "sisyphus = open('Myth of Sisyphus.txt', 'r')\n",
    "sisyphus_str = sisyphus.read()\n",
    "sisyphus.close()\n",
    "sisyphus_str"
   ],
   "metadata": {
    "collapsed": false,
    "pycharm": {
     "name": "#%%\n"
    }
   }
  },
  {
   "cell_type": "code",
   "execution_count": 23,
   "outputs": [],
   "source": [
    "sisyphus_readability_score = Textatistic(sisyphus_str).scores"
   ],
   "metadata": {
    "collapsed": false,
    "pycharm": {
     "name": "#%%\n"
    }
   }
  },
  {
   "cell_type": "code",
   "execution_count": 24,
   "outputs": [
    {
     "name": "stdout",
     "output_type": "stream",
     "text": [
      "81.67466335836913\n",
      "7.913698140200286\n"
     ]
    }
   ],
   "source": [
    "print(sisyphus_readability_score['flesch_score'])\n",
    "print(sisyphus_readability_score['gunningfog_score'])"
   ],
   "metadata": {
    "collapsed": false,
    "pycharm": {
     "name": "#%%\n"
    }
   }
  },
  {
   "cell_type": "code",
   "execution_count": 25,
   "outputs": [
    {
     "data": {
      "text/plain": "'In his important new book, The Schoolhouse Gate: Public Education, the Supreme Court, and the Battle for the American Mind, Professor Justin Driver reminds us that private controversies that arise within the confines of public schools are part of a broader historical arc — one that tracks a range of cultural and intellectual flashpoints in U.S. history. Moreover, Driver explains, these tensions are reflected in constitutional law, and indeed in the history and jurisprudence of the Supreme Court. As such, debates that arise in the context of public education are not simply about the conflict between academic freedom, public safety, and student rights. They mirror our persistent struggle to reconcile our interest in fostering a pluralistic society, rooted in the ideal of individual autonomy, with our desire to cultivate a sense of national unity and shared identity (or, put differently, our effort to reconcile our desire to forge common norms of citizenship with our fear of state indoctrination and overencroachment). In this regard, these debates reflect the unique role that both the school and the courts have played in defining and enforcing the boundaries of American citizenship. '"
     },
     "execution_count": 25,
     "metadata": {},
     "output_type": "execute_result"
    }
   ],
   "source": [
    "harvard_law = open('harvard_law.txt', 'r', encoding='utf-8')\n",
    "harvard_law_str = harvard_law.read()\n",
    "harvard_law.close()\n",
    "harvard_law_str"
   ],
   "metadata": {
    "collapsed": false,
    "pycharm": {
     "name": "#%%\n"
    }
   }
  },
  {
   "cell_type": "markdown",
   "source": [
    "harvard_law不論是字數與採用的word的syllables的數量都較sisyphus來的多，因此二者結果符合預期\n",
    "\n",
    "- harvard_law的readability在是處在困難與大學程度以上\n",
    "- sisyphus的readability則是處在簡單與高中以下<br>\n",
    "(總結，就是字數、音節這中很簡單的representation是有用處的，另外像是簡單的formula表現的關係，也非常符合常識)"
   ],
   "metadata": {
    "collapsed": false,
    "pycharm": {
     "name": "#%% md\n"
    }
   }
  },
  {
   "cell_type": "code",
   "execution_count": 26,
   "outputs": [],
   "source": [
    "harvard_law_readability_score = Textatistic(harvard_law_str).scores"
   ],
   "metadata": {
    "collapsed": false,
    "pycharm": {
     "name": "#%%\n"
    }
   }
  },
  {
   "cell_type": "code",
   "execution_count": 28,
   "outputs": [
    {
     "name": "stdout",
     "output_type": "stream",
     "text": [
      "36.318919786096274\n",
      "20.735401069518716\n"
     ]
    }
   ],
   "source": [
    "print(harvard_law_readability_score['flesch_score'])\n",
    "print(harvard_law_readability_score['gunningfog_score'])\n"
   ],
   "metadata": {
    "collapsed": false,
    "pycharm": {
     "name": "#%%\n"
    }
   }
  }
 ],
 "metadata": {
  "kernelspec": {
   "display_name": "Python 3",
   "language": "python",
   "name": "python3"
  },
  "language_info": {
   "codemirror_mode": {
    "name": "ipython",
    "version": 2
   },
   "file_extension": ".py",
   "mimetype": "text/x-python",
   "name": "python",
   "nbconvert_exporter": "python",
   "pygments_lexer": "ipython2",
   "version": "2.7.6"
  }
 },
 "nbformat": 4,
 "nbformat_minor": 0
}