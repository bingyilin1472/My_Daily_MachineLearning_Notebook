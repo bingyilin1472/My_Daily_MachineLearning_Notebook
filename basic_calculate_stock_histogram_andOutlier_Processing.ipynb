{
 "cells": [
  {
   "cell_type": "code",
   "execution_count": 11,
   "metadata": {
    "collapsed": true
   },
   "outputs": [],
   "source": [
    "import pandas as pd"
   ]
  },
  {
   "cell_type": "markdown",
   "source": [
    "pd.read_csv with encoding='utf8'. That setting would have less problem when we manipulate our data."
   ],
   "metadata": {
    "collapsed": false,
    "pycharm": {
     "name": "#%% md\n"
    }
   }
  },
  {
   "cell_type": "code",
   "execution_count": 12,
   "outputs": [
    {
     "data": {
      "text/plain": "                           Name                  Sector   Price    EPS\n0                     Apple Inc  Information Technology  170.12   9.20\n1                    Abbvie Inc             Health Care   93.29   5.31\n2           Abbott Laboratories             Health Care   55.28   2.41\n3                 Accenture Plc  Information Technology  145.30   5.91\n4                  Allergan Plc             Health Care  171.81  15.42\n..                          ...                     ...     ...    ...\n97   Verizon Communications Inc      Telecommunications   45.85   3.75\n98     Walgreens Boots Alliance        Consumer Staples   70.25   5.10\n99        Wells Fargo & Company              Financials   54.02   4.14\n100             Wal-Mart Stores        Consumer Staples   96.08   4.36\n101            Exxon Mobil Corp                  Energy   80.31   3.56\n\n[102 rows x 4 columns]",
      "text/html": "<div>\n<style scoped>\n    .dataframe tbody tr th:only-of-type {\n        vertical-align: middle;\n    }\n\n    .dataframe tbody tr th {\n        vertical-align: top;\n    }\n\n    .dataframe thead th {\n        text-align: right;\n    }\n</style>\n<table border=\"1\" class=\"dataframe\">\n  <thead>\n    <tr style=\"text-align: right;\">\n      <th></th>\n      <th>Name</th>\n      <th>Sector</th>\n      <th>Price</th>\n      <th>EPS</th>\n    </tr>\n  </thead>\n  <tbody>\n    <tr>\n      <th>0</th>\n      <td>Apple Inc</td>\n      <td>Information Technology</td>\n      <td>170.12</td>\n      <td>9.20</td>\n    </tr>\n    <tr>\n      <th>1</th>\n      <td>Abbvie Inc</td>\n      <td>Health Care</td>\n      <td>93.29</td>\n      <td>5.31</td>\n    </tr>\n    <tr>\n      <th>2</th>\n      <td>Abbott Laboratories</td>\n      <td>Health Care</td>\n      <td>55.28</td>\n      <td>2.41</td>\n    </tr>\n    <tr>\n      <th>3</th>\n      <td>Accenture Plc</td>\n      <td>Information Technology</td>\n      <td>145.30</td>\n      <td>5.91</td>\n    </tr>\n    <tr>\n      <th>4</th>\n      <td>Allergan Plc</td>\n      <td>Health Care</td>\n      <td>171.81</td>\n      <td>15.42</td>\n    </tr>\n    <tr>\n      <th>...</th>\n      <td>...</td>\n      <td>...</td>\n      <td>...</td>\n      <td>...</td>\n    </tr>\n    <tr>\n      <th>97</th>\n      <td>Verizon Communications Inc</td>\n      <td>Telecommunications</td>\n      <td>45.85</td>\n      <td>3.75</td>\n    </tr>\n    <tr>\n      <th>98</th>\n      <td>Walgreens Boots Alliance</td>\n      <td>Consumer Staples</td>\n      <td>70.25</td>\n      <td>5.10</td>\n    </tr>\n    <tr>\n      <th>99</th>\n      <td>Wells Fargo &amp; Company</td>\n      <td>Financials</td>\n      <td>54.02</td>\n      <td>4.14</td>\n    </tr>\n    <tr>\n      <th>100</th>\n      <td>Wal-Mart Stores</td>\n      <td>Consumer Staples</td>\n      <td>96.08</td>\n      <td>4.36</td>\n    </tr>\n    <tr>\n      <th>101</th>\n      <td>Exxon Mobil Corp</td>\n      <td>Energy</td>\n      <td>80.31</td>\n      <td>3.56</td>\n    </tr>\n  </tbody>\n</table>\n<p>102 rows × 4 columns</p>\n</div>"
     },
     "execution_count": 12,
     "metadata": {},
     "output_type": "execute_result"
    }
   ],
   "source": [
    "industry_sector_df = pd.read_csv('course_python_forFinance dataset/stock_data_forPractice/industry_sector.csv',encoding='utf8')\n",
    "industry_sector_df"
   ],
   "metadata": {
    "collapsed": false,
    "pycharm": {
     "name": "#%%\n"
    }
   }
  },
  {
   "cell_type": "markdown",
   "source": [
    "### Show all dataframe columns by .columns"
   ],
   "metadata": {
    "collapsed": false,
    "pycharm": {
     "name": "#%% md\n"
    }
   }
  },
  {
   "cell_type": "code",
   "execution_count": 13,
   "outputs": [
    {
     "data": {
      "text/plain": "Index(['Name', 'Sector', 'Price', 'EPS'], dtype='object')"
     },
     "execution_count": 13,
     "metadata": {},
     "output_type": "execute_result"
    }
   ],
   "source": [
    "industry_sector_df.columns"
   ],
   "metadata": {
    "collapsed": false,
    "pycharm": {
     "name": "#%%\n"
    }
   }
  },
  {
   "cell_type": "markdown",
   "source": [
    "- .values : to get numpy array with head() that limit the amount of records"
   ],
   "metadata": {
    "collapsed": false,
    "pycharm": {
     "name": "#%% md\n"
    }
   }
  },
  {
   "cell_type": "code",
   "execution_count": 14,
   "outputs": [
    {
     "name": "stdout",
     "output_type": "stream",
     "text": [
      "Stock Price:  [170.12  93.29  55.28 145.3  171.81]\n",
      "EPS:  [ 9.2   5.31  2.41  5.91 15.42]\n"
     ]
    }
   ],
   "source": [
    "stock_price = industry_sector_df['Price'].values\n",
    "EPS = industry_sector_df['EPS'].values\n",
    "print('Stock Price: ', industry_sector_df['Price'].head().values)\n",
    "print('EPS: ', industry_sector_df['EPS'].head().values)"
   ],
   "metadata": {
    "collapsed": false,
    "pycharm": {
     "name": "#%%\n"
    }
   }
  },
  {
   "cell_type": "markdown",
   "source": [
    "### Price to Earnings Ratio, PE Ration本益比\n",
    "- PER = Stock Price / EPS(Earnings Per Share)\n",
    "- PER is also equal to Market Capitalization / Profit After Tax"
   ],
   "metadata": {
    "collapsed": false,
    "pycharm": {
     "name": "#%% md\n"
    }
   }
  },
  {
   "cell_type": "code",
   "execution_count": 90,
   "outputs": [
    {
     "data": {
      "text/plain": "array([  18.49130435,   17.56873823,   22.93775934,   24.58544839,\n         11.14202335,   23.70517928,   14.8011782 ,   13.42845787,\n        285.99492386,   17.99233716,   27.18358974,   15.25714286,\n         14.44742937,   15.19596542,   21.99767981,   20.43243243,\n         28.81875994,   13.8477842 ,   24.75135135,   16.075     ,\n        215.0310559 ,   25.14285714,   17.88613861,   11.64379947,\n       2494.5       ,   29.41924399,   16.76497696,   12.29071804,\n         32.16806723,   24.02313625,   18.07368421,   19.91235955,\n         19.43169399,   23.31007752,   16.66129032,    7.20833333,\n         34.51637765,   18.2829555 ,   15.84375   ,   16.21875   ,\n         19.73187686,   14.44354839,    7.47703549,    7.22778675,\n         34.09708738,   34.6196853 ,   12.3984375 ,   56.94520548,\n         24.44396552,   21.30071942,   11.08345534,   14.11320755,\n         19.40336134,   14.20461095,   22.63764045,   26.21538462,\n         24.12698413,   20.28606357,   24.60141509,   18.76267281,\n         34.78654292,   26.0953125 ,   20.72682927,   16.95522388,\n          9.97115385,   25.97653631,   21.04746835,   21.37251356,\n         13.81491003,   13.5900277 ,   24.40532544,   23.34332834,\n         25.30212766,   19.20392157,  194.77142857,   23.66997985,\n         22.55859375,   14.152     ,   22.19346734,   23.01781737,\n         54.67857143,   17.67989418,   24.36772487,   27.45410628,\n         47.69767442,   18.58909091,   26.32231405,   11.80546075,\n         11.71805274,   14.62376238,   24.28325123,   21.84895833,\n         20.4204947 ,   18.92976589,   15.39465875,   17.68126888,\n         31.68678161,   12.22666667,   13.7745098 ,   13.04830918,\n         22.03669725,   22.55898876])"
     },
     "execution_count": 90,
     "metadata": {},
     "output_type": "execute_result"
    }
   ],
   "source": [
    "PER = stock_price / EPS\n",
    "PER"
   ],
   "metadata": {
    "collapsed": false,
    "pycharm": {
     "name": "#%%\n"
    }
   }
  },
  {
   "cell_type": "markdown",
   "source": [
    "### 計算Price to Earnings Ratio/PER本益比\n",
    "- PER = Stock price / 每股盈餘EPS\n",
    "- PER = Market Capitalization市值 / Profit after tax稅後淨利"
   ],
   "metadata": {
    "collapsed": false,
    "pycharm": {
     "name": "#%% md\n"
    }
   }
  },
  {
   "cell_type": "markdown",
   "source": [
    "### Add new column for PER we had calculated"
   ],
   "metadata": {
    "collapsed": false,
    "pycharm": {
     "name": "#%% md\n"
    }
   }
  },
  {
   "cell_type": "code",
   "execution_count": 91,
   "outputs": [
    {
     "data": {
      "text/plain": "                  Name                  Sector   Price    EPS        PER\n0            Apple Inc  Information Technology  170.12   9.20  18.491304\n1           Abbvie Inc             Health Care   93.29   5.31  17.568738\n2  Abbott Laboratories             Health Care   55.28   2.41  22.937759\n3        Accenture Plc  Information Technology  145.30   5.91  24.585448\n4         Allergan Plc             Health Care  171.81  15.42  11.142023",
      "text/html": "<div>\n<style scoped>\n    .dataframe tbody tr th:only-of-type {\n        vertical-align: middle;\n    }\n\n    .dataframe tbody tr th {\n        vertical-align: top;\n    }\n\n    .dataframe thead th {\n        text-align: right;\n    }\n</style>\n<table border=\"1\" class=\"dataframe\">\n  <thead>\n    <tr style=\"text-align: right;\">\n      <th></th>\n      <th>Name</th>\n      <th>Sector</th>\n      <th>Price</th>\n      <th>EPS</th>\n      <th>PER</th>\n    </tr>\n  </thead>\n  <tbody>\n    <tr>\n      <th>0</th>\n      <td>Apple Inc</td>\n      <td>Information Technology</td>\n      <td>170.12</td>\n      <td>9.20</td>\n      <td>18.491304</td>\n    </tr>\n    <tr>\n      <th>1</th>\n      <td>Abbvie Inc</td>\n      <td>Health Care</td>\n      <td>93.29</td>\n      <td>5.31</td>\n      <td>17.568738</td>\n    </tr>\n    <tr>\n      <th>2</th>\n      <td>Abbott Laboratories</td>\n      <td>Health Care</td>\n      <td>55.28</td>\n      <td>2.41</td>\n      <td>22.937759</td>\n    </tr>\n    <tr>\n      <th>3</th>\n      <td>Accenture Plc</td>\n      <td>Information Technology</td>\n      <td>145.30</td>\n      <td>5.91</td>\n      <td>24.585448</td>\n    </tr>\n    <tr>\n      <th>4</th>\n      <td>Allergan Plc</td>\n      <td>Health Care</td>\n      <td>171.81</td>\n      <td>15.42</td>\n      <td>11.142023</td>\n    </tr>\n  </tbody>\n</table>\n</div>"
     },
     "execution_count": 91,
     "metadata": {},
     "output_type": "execute_result"
    }
   ],
   "source": [
    "industry_sector_df['PER'] = PER\n",
    "industry_sector_df.head()"
   ],
   "metadata": {
    "collapsed": false,
    "pycharm": {
     "name": "#%%\n"
    }
   }
  },
  {
   "cell_type": "markdown",
   "source": [
    "### Show statistic summary by df.describe()\n",
    "- This summary is for setting histogram parameters"
   ],
   "metadata": {
    "collapsed": false,
    "pycharm": {
     "name": "#%% md\n"
    }
   }
  },
  {
   "cell_type": "code",
   "execution_count": 17,
   "outputs": [
    {
     "data": {
      "text/plain": "             Price         EPS          PER\ncount   102.000000  102.000000   102.000000\nmean    150.500686    6.485294    51.283190\nstd     240.768463    8.577741   247.155439\nmin      12.110000    0.020000     7.208333\n25%      54.335000    2.885000    15.211260\n50%      88.295000    4.405000    20.353279\n75%     151.032500    6.565000    24.550078\nmax    1762.230000   74.450000  2494.500000",
      "text/html": "<div>\n<style scoped>\n    .dataframe tbody tr th:only-of-type {\n        vertical-align: middle;\n    }\n\n    .dataframe tbody tr th {\n        vertical-align: top;\n    }\n\n    .dataframe thead th {\n        text-align: right;\n    }\n</style>\n<table border=\"1\" class=\"dataframe\">\n  <thead>\n    <tr style=\"text-align: right;\">\n      <th></th>\n      <th>Price</th>\n      <th>EPS</th>\n      <th>PER</th>\n    </tr>\n  </thead>\n  <tbody>\n    <tr>\n      <th>count</th>\n      <td>102.000000</td>\n      <td>102.000000</td>\n      <td>102.000000</td>\n    </tr>\n    <tr>\n      <th>mean</th>\n      <td>150.500686</td>\n      <td>6.485294</td>\n      <td>51.283190</td>\n    </tr>\n    <tr>\n      <th>std</th>\n      <td>240.768463</td>\n      <td>8.577741</td>\n      <td>247.155439</td>\n    </tr>\n    <tr>\n      <th>min</th>\n      <td>12.110000</td>\n      <td>0.020000</td>\n      <td>7.208333</td>\n    </tr>\n    <tr>\n      <th>25%</th>\n      <td>54.335000</td>\n      <td>2.885000</td>\n      <td>15.211260</td>\n    </tr>\n    <tr>\n      <th>50%</th>\n      <td>88.295000</td>\n      <td>4.405000</td>\n      <td>20.353279</td>\n    </tr>\n    <tr>\n      <th>75%</th>\n      <td>151.032500</td>\n      <td>6.565000</td>\n      <td>24.550078</td>\n    </tr>\n    <tr>\n      <th>max</th>\n      <td>1762.230000</td>\n      <td>74.450000</td>\n      <td>2494.500000</td>\n    </tr>\n  </tbody>\n</table>\n</div>"
     },
     "execution_count": 17,
     "metadata": {},
     "output_type": "execute_result"
    }
   ],
   "source": [
    "industry_sector_df.describe()"
   ],
   "metadata": {
    "collapsed": false,
    "pycharm": {
     "name": "#%%\n"
    }
   }
  },
  {
   "cell_type": "markdown",
   "source": [
    "### Visualization with histogram"
   ],
   "metadata": {
    "collapsed": false,
    "pycharm": {
     "name": "#%% md\n"
    }
   }
  },
  {
   "cell_type": "code",
   "execution_count": 134,
   "outputs": [],
   "source": [
    "import  matplotlib.pyplot as plt\n",
    "import math\n",
    "import numpy as np"
   ],
   "metadata": {
    "collapsed": false,
    "pycharm": {
     "name": "#%%\n"
    }
   }
  },
  {
   "cell_type": "markdown",
   "source": [
    "### Using column PER to create Histogram"
   ],
   "metadata": {
    "collapsed": false,
    "pycharm": {
     "name": "#%% md\n"
    }
   }
  },
  {
   "cell_type": "code",
   "execution_count": 98,
   "outputs": [],
   "source": [
    "n = len(industry_sector_df['PER'])\n",
    "np_array_PER = industry_sector_df['PER'].values"
   ],
   "metadata": {
    "collapsed": false,
    "pycharm": {
     "name": "#%%\n"
    }
   }
  },
  {
   "cell_type": "markdown",
   "source": [
    "### Calculating the Bin Size based on Freedman Diaconis Rule\n",
    "- Freedman Diaconis rule is more robust for outlier because it consider both record scale and the number of records."
   ],
   "metadata": {
    "collapsed": false,
    "pycharm": {
     "name": "#%% md\n"
    }
   }
  },
  {
   "cell_type": "code",
   "execution_count": 99,
   "outputs": [
    {
     "data": {
      "text/plain": "3.9975003639470916"
     },
     "execution_count": 99,
     "metadata": {},
     "output_type": "execute_result"
    }
   ],
   "source": [
    "Q3 = industry_sector_df['PER'].quantile(.75)\n",
    "Q1 = industry_sector_df['PER'].quantile(.25)\n",
    "IQR = Q3 - Q1\n",
    "freedman_bin_size = 2*(IQR/(len(np_array_PER)**(1/3)))\n",
    "freedman_bin_size"
   ],
   "metadata": {
    "collapsed": false,
    "pycharm": {
     "name": "#%%\n"
    }
   }
  },
  {
   "cell_type": "code",
   "execution_count": 102,
   "outputs": [
    {
     "data": {
      "text/plain": "26"
     },
     "execution_count": 102,
     "metadata": {},
     "output_type": "execute_result"
    }
   ],
   "source": [
    "freedman_theNumberOf_bins = int((n/freedman_bin_size) + 1)\n",
    "freedman_theNumberOf_bins"
   ],
   "metadata": {
    "collapsed": false,
    "pycharm": {
     "name": "#%%\n"
    }
   }
  },
  {
   "cell_type": "markdown",
   "source": [
    "### Calculating the Bin Size based on Sturges' Rule"
   ],
   "metadata": {
    "collapsed": false,
    "pycharm": {
     "name": "#%% md\n"
    }
   }
  },
  {
   "cell_type": "code",
   "execution_count": 103,
   "outputs": [
    {
     "data": {
      "text/plain": "8"
     },
     "execution_count": 103,
     "metadata": {},
     "output_type": "execute_result"
    }
   ],
   "source": [
    "n = len(np_array_PER)\n",
    "sturges_bin_size = round(1 + (math.log(n,10)/math.log(2,10)))\n",
    "sturges_bin_size"
   ],
   "metadata": {
    "collapsed": false,
    "pycharm": {
     "name": "#%%\n"
    }
   }
  },
  {
   "cell_type": "code",
   "execution_count": 104,
   "outputs": [
    {
     "data": {
      "text/plain": "13"
     },
     "execution_count": 104,
     "metadata": {},
     "output_type": "execute_result"
    }
   ],
   "source": [
    "sturges_theNumberOf_bins = int((n/sturges_bin_size) + 1)\n",
    "sturges_theNumberOf_bins"
   ],
   "metadata": {
    "collapsed": false,
    "pycharm": {
     "name": "#%%\n"
    }
   }
  },
  {
   "cell_type": "markdown",
   "source": [
    "### Some notices about matplotlib.plot\n",
    " - plt.style.use('ggplot'): this style shows the diagram more clear because of its color theme\n",
    " - plt.close(): it is very important step. Don't forget this, then the other cell's plot would be a new begin."
   ],
   "metadata": {
    "collapsed": false,
    "pycharm": {
     "name": "#%% md\n"
    }
   }
  },
  {
   "cell_type": "code",
   "execution_count": 121,
   "outputs": [
    {
     "data": {
      "text/plain": "<Figure size 432x288 with 1 Axes>",
      "image/png": "[encoded data removed]"
     },
     "metadata": {},
     "output_type": "display_data"
    }
   ],
   "source": [
    "plt.style.use('ggplot')\n",
    "plt.hist(np_array_PER, bins=freedman_theNumberOf_bins)\n",
    "plt.title('bins: Freedman Dianocis Rule')\n",
    "plt.ylabel('Frequency')\n",
    "plt.xlabel('PER')\n",
    "plt.show()\n",
    "plt.close() # don't forget to close the plot"
   ],
   "metadata": {
    "collapsed": false,
    "pycharm": {
     "name": "#%%\n"
    }
   }
  },
  {
   "cell_type": "code",
   "execution_count": 114,
   "outputs": [
    {
     "data": {
      "text/plain": "<Figure size 432x288 with 1 Axes>",
      "image/png": "[encoded data removed]"
     },
     "metadata": {},
     "output_type": "display_data"
    }
   ],
   "source": [
    "plt.style.use('ggplot')\n",
    "plt.hist(np_array_PER, bins=sturges_theNumberOf_bins)\n",
    "plt.title('bins: Sturges Rule')\n",
    "plt.ylabel('Frequency')\n",
    "plt.xlabel('PER')\n",
    "plt.show()\n",
    "plt.close()"
   ],
   "metadata": {
    "collapsed": false,
    "pycharm": {
     "name": "#%%\n"
    }
   }
  },
  {
   "cell_type": "markdown",
   "source": [
    "### Detecting and Removing Outliers\n",
    "- We can intuitively find outliers are at > 2000 PER from above 2 graph.\n",
    "- Or we can use IQR to find outliers\n",
    "    - If the records' value of PER > Q3 + 1.5*IQR OR PER < Q1 - 1.5*IQR, these records are outliers."
   ],
   "metadata": {
    "collapsed": false,
    "pycharm": {
     "name": "#%% md\n"
    }
   }
  },
  {
   "cell_type": "markdown",
   "source": [
    "Using hist to find the outliers' range and creating a filter based on the range."
   ],
   "metadata": {
    "collapsed": false,
    "pycharm": {
     "name": "#%% md\n"
    }
   }
  },
  {
   "cell_type": "code",
   "execution_count": null,
   "outputs": [],
   "source": [
    "np_array_PER = industry_sector_df['PER'].values\n",
    "outlier_fromHist_filter = np_array_PER < 2000"
   ],
   "metadata": {
    "collapsed": false,
    "pycharm": {
     "name": "#%%\n"
    }
   }
  },
  {
   "cell_type": "code",
   "execution_count": 120,
   "outputs": [
    {
     "data": {
      "text/plain": "<Figure size 432x288 with 1 Axes>",
      "image/png": "[encoded data removed]"
     },
     "metadata": {},
     "output_type": "display_data"
    }
   ],
   "source": [
    "plt.style.use('ggplot')\n",
    "plt.hist(np_array_PER[outlier_fromHist_filter], bins=freedman_theNumberOf_bins)\n",
    "plt.title('Freedman Dianocis Rule without outliers')\n",
    "plt.ylabel('Frequency')\n",
    "plt.xlabel('PER')\n",
    "plt.show()\n",
    "plt.close()"
   ],
   "metadata": {
    "collapsed": false,
    "pycharm": {
     "name": "#%%\n"
    }
   }
  },
  {
   "cell_type": "code",
   "execution_count": 138,
   "outputs": [
    {
     "name": "stdout",
     "output_type": "stream",
     "text": [
      "[ True  True  True  True  True  True  True  True False  True  True  True\n",
      "  True  True  True  True  True  True  True  True False  True  True  True\n",
      " False  True  True  True  True  True  True  True  True  True  True  True\n",
      "  True  True  True  True  True  True  True  True  True  True  True False\n",
      "  True  True  True  True  True  True  True  True  True  True  True  True\n",
      "  True  True  True  True  True  True  True  True  True  True  True  True\n",
      "  True  True False  True  True  True  True  True False  True  True  True\n",
      " False  True  True  True  True  True  True  True  True  True  True  True\n",
      "  True  True  True  True  True  True]\n",
      "[ True  True  True  True  True  True  True  True  True  True  True  True\n",
      "  True  True  True  True  True  True  True  True  True  True  True  True\n",
      "  True  True  True  True  True  True  True  True  True  True  True  True\n",
      "  True  True  True  True  True  True  True  True  True  True  True  True\n",
      "  True  True  True  True  True  True  True  True  True  True  True  True\n",
      "  True  True  True  True  True  True  True  True  True  True  True  True\n",
      "  True  True  True  True  True  True  True  True  True  True  True  True\n",
      "  True  True  True  True  True  True  True  True  True  True  True  True\n",
      "  True  True  True  True  True  True]\n",
      "[True, True, True, True, True, True, True, True, False, True, True, True, True, True, True, True, True, True, True, True, False, True, True, True, False, True, True, True, True, True, True, True, True, True, True, True, True, True, True, True, True, True, True, True, True, True, True, False, True, True, True, True, True, True, True, True, True, True, True, True, True, True, True, True, True, True, True, True, True, True, True, True, True, True, False, True, True, True, True, True, False, True, True, True, False, True, True, True, True, True, True, True, True, True, True, True, True, True, True, True, True, True]\n"
     ]
    }
   ],
   "source": [
    "upper_bound = Q3 + 1.5*IQR\n",
    "lower_bound = Q1 - 1.5*IQR\n",
    "outlier_fromIQR_filter_upper = np_array_PER < upper_bound\n",
    "outlier_fromIQR_filter_lower = np_array_PER > lower_bound\n",
    "print(outlier_fromIQR_filter_upper)\n",
    "print(outlier_fromIQR_filter_lower)\n",
    "outlier_filterIQR = [outlier_fromIQR_filter_upper[i] and outlier_fromIQR_filter_lower[i] for i, e in enumerate(outlier_fromIQR_filter_upper)]\n",
    "print(outlier_filterIQR)"
   ],
   "metadata": {
    "collapsed": false,
    "pycharm": {
     "name": "#%%\n"
    }
   }
  },
  {
   "cell_type": "markdown",
   "source": [
    "### IQR to remove outlier has better performance\n",
    "- In this diagram with IQR filter, it shows better visualization for this dataset."
   ],
   "metadata": {
    "collapsed": false,
    "pycharm": {
     "name": "#%% md\n"
    }
   }
  },
  {
   "cell_type": "code",
   "execution_count": 140,
   "outputs": [
    {
     "data": {
      "text/plain": "<Figure size 432x288 with 1 Axes>",
      "image/png": "[encoded data removed]"
     },
     "metadata": {},
     "output_type": "display_data"
    }
   ],
   "source": [
    "plt.style.use('ggplot')\n",
    "plt.hist(np_array_PER[outlier_filterIQR], bins=freedman_theNumberOf_bins)\n",
    "plt.title('Freedman Dianocis Rule without outliers')\n",
    "plt.ylabel('Frequency')\n",
    "plt.xlabel('PER')\n",
    "plt.show()\n",
    "plt.close()"
   ],
   "metadata": {
    "collapsed": false,
    "pycharm": {
     "name": "#%%\n"
    }
   }
  },
  {
   "cell_type": "markdown",
   "source": [
    "### Labeling records of outliers and Getting them\n",
    "- Although these records are noises or outliers, they still have values to do some analysis. We can get insights from them."
   ],
   "metadata": {
    "collapsed": false,
    "pycharm": {
     "name": "#%% md\n"
    }
   }
  },
  {
   "cell_type": "code",
   "execution_count": 147,
   "outputs": [
    {
     "data": {
      "text/plain": "                         Name                  Sector    Price   EPS  \\\n8             Amazon.Com Inc.  Consumer Discretionary  1126.82  3.94   \n20       Charter Communicatio  Consumer Discretionary   346.20  1.61   \n24             Conocophillips                  Energy    49.89  0.02   \n47        Halliburton Company                  Energy    41.57  0.73   \n74  Occidental Petroleum Corp                  Energy    68.17  0.35   \n80            Paypal Holdings  Information Technology    76.55  1.40   \n84          Schlumberger N.V.                  Energy    61.53  1.29   \n\n            PER  \n8    285.994924  \n20   215.031056  \n24  2494.500000  \n47    56.945205  \n74   194.771429  \n80    54.678571  \n84    47.697674  ",
      "text/html": "<div>\n<style scoped>\n    .dataframe tbody tr th:only-of-type {\n        vertical-align: middle;\n    }\n\n    .dataframe tbody tr th {\n        vertical-align: top;\n    }\n\n    .dataframe thead th {\n        text-align: right;\n    }\n</style>\n<table border=\"1\" class=\"dataframe\">\n  <thead>\n    <tr style=\"text-align: right;\">\n      <th></th>\n      <th>Name</th>\n      <th>Sector</th>\n      <th>Price</th>\n      <th>EPS</th>\n      <th>PER</th>\n    </tr>\n  </thead>\n  <tbody>\n    <tr>\n      <th>8</th>\n      <td>Amazon.Com Inc.</td>\n      <td>Consumer Discretionary</td>\n      <td>1126.82</td>\n      <td>3.94</td>\n      <td>285.994924</td>\n    </tr>\n    <tr>\n      <th>20</th>\n      <td>Charter Communicatio</td>\n      <td>Consumer Discretionary</td>\n      <td>346.20</td>\n      <td>1.61</td>\n      <td>215.031056</td>\n    </tr>\n    <tr>\n      <th>24</th>\n      <td>Conocophillips</td>\n      <td>Energy</td>\n      <td>49.89</td>\n      <td>0.02</td>\n      <td>2494.500000</td>\n    </tr>\n    <tr>\n      <th>47</th>\n      <td>Halliburton Company</td>\n      <td>Energy</td>\n      <td>41.57</td>\n      <td>0.73</td>\n      <td>56.945205</td>\n    </tr>\n    <tr>\n      <th>74</th>\n      <td>Occidental Petroleum Corp</td>\n      <td>Energy</td>\n      <td>68.17</td>\n      <td>0.35</td>\n      <td>194.771429</td>\n    </tr>\n    <tr>\n      <th>80</th>\n      <td>Paypal Holdings</td>\n      <td>Information Technology</td>\n      <td>76.55</td>\n      <td>1.40</td>\n      <td>54.678571</td>\n    </tr>\n    <tr>\n      <th>84</th>\n      <td>Schlumberger N.V.</td>\n      <td>Energy</td>\n      <td>61.53</td>\n      <td>1.29</td>\n      <td>47.697674</td>\n    </tr>\n  </tbody>\n</table>\n</div>"
     },
     "execution_count": 147,
     "metadata": {},
     "output_type": "execute_result"
    }
   ],
   "source": [
    "detect_outlier = [not e for e in outlier_filterIQR]\n",
    "outlier_records = industry_sector_df[detect_outlier]\n",
    "outlier_records"
   ],
   "metadata": {
    "collapsed": false,
    "pycharm": {
     "name": "#%%\n"
    }
   }
  },
  {
   "cell_type": "code",
   "execution_count": null,
   "outputs": [],
   "source": [],
   "metadata": {
    "collapsed": false,
    "pycharm": {
     "name": "#%%\n"
    }
   }
  }
 ],
 "metadata": {
  "kernelspec": {
   "display_name": "Python 3",
   "language": "python",
   "name": "python3"
  },
  "language_info": {
   "codemirror_mode": {
    "name": "ipython",
    "version": 2
   },
   "file_extension": ".py",
   "mimetype": "text/x-python",
   "name": "python",
   "nbconvert_exporter": "python",
   "pygments_lexer": "ipython2",
   "version": "2.7.6"
  }
 },
 "nbformat": 4,
 "nbformat_minor": 0
}